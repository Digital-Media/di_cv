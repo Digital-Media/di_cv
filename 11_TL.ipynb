{
 "cells": [
  {
   "cell_type": "code",
   "execution_count": null,
   "metadata": {
    "id": "aYUtWbw83ezn"
   },
   "outputs": [],
   "source": [
    "%matplotlib inline"
   ]
  },
  {
   "attachments": {},
   "cell_type": "markdown",
   "metadata": {},
   "source": [
    " # Tutorial 11 - Transfer Learning a CNN\n",
    " \n",
    " ## Dr. David C. Schedl\n",
    "\n",
    "This tutorial is geared towards students **experienced in programming** and aims to introduce you to **Digital Imaging / Computer Vision** techniques.\n",
    "\n",
    "We will look at tranfer learning with a pre-trained CNN. \n",
    "Quote from the CS231n notes:\n",
    "> In practice, very few people train an entire Convolutional Network\n",
    "> from scratch (with random initialization), because it is relatively\n",
    "> rare to have a dataset of sufficient size. Instead, it is common to\n",
    "> pretrain a ConvNet on a very large dataset (e.g. ImageNet, which\n",
    "> contains 1.2 million images with 1000 categories), and then use the\n",
    "> ConvNet either as an initialization or a fixed feature extractor for\n",
    "> the task of interest.\n",
    "\n",
    "For training, it is recommended to use a **GPU**. In Google Colab go to the menu and select **Edit** -> **Notebook settings** -> **Hardware accelerator** -> switch to **GPU**.\n",
    "\n",
    "Useful links:\n",
    "* [PyTorch documentation](https://pytorch.org/docs/stable/index.html)\n",
    "* More about transfer learning at [CS231n notes](https://cs231n.github.io/transfer-learning/)\n",
    "\n",
    "#### Acknowledgements\n",
    "The code of this tutorial is based on a notebook from a [PyTorch tutorial](https://pytorch.org/tutorials/beginner/transfer_learning_tutorial.html) by the author [Sasank Chilamkurthy](https://chsasank.github.io)."
   ]
  },
  {
   "cell_type": "code",
   "execution_count": null,
   "metadata": {
    "id": "2YBm6Zzs3ezu"
   },
   "outputs": [],
   "source": [
    "from __future__ import print_function, division\n",
    "\n",
    "import torch\n",
    "import torch.nn as nn\n",
    "import torch.optim as optim\n",
    "from torch.optim import lr_scheduler\n",
    "import torch.backends.cudnn as cudnn\n",
    "import numpy as np\n",
    "import torchvision\n",
    "from torchvision import datasets, models, transforms\n",
    "import matplotlib.pyplot as plt\n",
    "import time\n",
    "import os\n",
    "import copy\n",
    "\n",
    "cudnn.benchmark = True"
   ]
  },
  {
   "attachments": {},
   "cell_type": "markdown",
   "metadata": {
    "id": "EZrI1HcK3ezu"
   },
   "source": [
    "## Load Data\n",
    "\n",
    "We will use torchvision and torch.utils.data packages for loading the\n",
    "data.\n",
    "\n",
    "The problem we're going to solve today is to train a model to classify the 10 classes of CIFAR10, but with a higher resolution and less images.\n",
    "We have about 100 training images each for each class.\n",
    "Usually, this is a very small dataset to generalize upon, if trained from scratch. \n",
    "Since we are using transfer learning, we should be able to generalize reasonably well.\n",
    "\n",
    "Note: we use a dataset called [STL-10](https://pytorch.org/vision/stable/generated/torchvision.datasets.STL10.html#torchvision.datasets.STL10), which might take a while to download (~2.5 GB in size).\n"
   ]
  },
  {
   "cell_type": "code",
   "execution_count": null,
   "metadata": {
    "colab": {
     "base_uri": "https://localhost:8080/",
     "height": 396
    },
    "id": "oXF-8VG13ezv",
    "outputId": "6e1ac221-b676-41d4-f8fb-885991a03bfe"
   },
   "outputs": [],
   "source": [
    "# Data augmentation and normalization for training\n",
    "# Just normalization for validation\n",
    "data_transforms = {\n",
    "    \"train\": transforms.Compose(\n",
    "        [\n",
    "            transforms.RandomHorizontalFlip(),\n",
    "            transforms.ToTensor(),\n",
    "            transforms.Normalize([0.485, 0.456, 0.406], [0.229, 0.224, 0.225]),\n",
    "        ]\n",
    "    ),\n",
    "    \"val\": transforms.Compose(\n",
    "        [\n",
    "            transforms.ToTensor(),\n",
    "            transforms.Normalize([0.485, 0.456, 0.406], [0.229, 0.224, 0.225]),\n",
    "        ]\n",
    "    ),\n",
    "}\n",
    "\n",
    "batch_size = 32  # was 4\n",
    "\n",
    "image_datasets = {\n",
    "    \"train\": torchvision.datasets.STL10(\n",
    "        root=\"./data\",\n",
    "        split=\"train\",\n",
    "        folds=0,\n",
    "        download=True,\n",
    "        transform=data_transforms[\"train\"],\n",
    "    ),\n",
    "    \"val\": torchvision.datasets.STL10(\n",
    "        root=\"./data\",\n",
    "        split=\"test\",\n",
    "        folds=0,\n",
    "        download=True,\n",
    "        transform=data_transforms[\"val\"],\n",
    "    ),\n",
    "}\n",
    "\n",
    "dataloaders = {\n",
    "    x: torch.utils.data.DataLoader(\n",
    "        image_datasets[x],\n",
    "        batch_size=batch_size,\n",
    "        shuffle=True if x == \"train\" else False,\n",
    "        num_workers=2,\n",
    "    )\n",
    "    for x in [\"train\", \"val\"]\n",
    "}\n",
    "dataset_sizes = {x: len(image_datasets[x]) for x in [\"train\", \"val\"]}\n",
    "class_names = image_datasets[\"train\"].classes\n",
    "print(class_names)\n",
    "print(dataset_sizes)\n",
    "\n",
    "device = torch.device(\"cuda:0\" if torch.cuda.is_available() else \"cpu\")\n",
    "if device.type != \"cuda\":\n",
    "    print(\"Using CPU! things will be slow! :(\")"
   ]
  },
  {
   "cell_type": "markdown",
   "metadata": {
    "id": "HB9qN5oz3ezw"
   },
   "source": [
    "### Visualize a few images\n",
    "Let's visualize a few training images so as to understand the data\n",
    "augmentations.\n",
    "\n"
   ]
  },
  {
   "cell_type": "code",
   "execution_count": null,
   "metadata": {
    "id": "ogEXlyS43ezx"
   },
   "outputs": [],
   "source": [
    "def imshow(inp, title=None, ax=plt):\n",
    "    \"\"\"Imshow for Tensor.\"\"\"\n",
    "    inp = inp.numpy().transpose((1, 2, 0))\n",
    "    mean = np.array([0.485, 0.456, 0.406])\n",
    "    std = np.array([0.229, 0.224, 0.225])\n",
    "    inp = std * inp + mean\n",
    "    inp = np.clip(inp, 0, 1)\n",
    "    ax.imshow(inp)\n",
    "    if title is not None:\n",
    "        plt.title(title)\n",
    "    # plt.pause(0.001)  # pause a bit so that plots are updated\n",
    "\n",
    "\n",
    "# Get a batch of training data\n",
    "inputs, classes = next(iter(dataloaders[\"train\"]))\n",
    "\n",
    "# Make a grid from batch\n",
    "out = torchvision.utils.make_grid(inputs)\n",
    "\n",
    "imshow(out, title=[class_names[x] for x in classes])"
   ]
  },
  {
   "cell_type": "markdown",
   "metadata": {
    "id": "SBoNNsCs3ezx"
   },
   "source": [
    "## Training the model\n",
    "\n",
    "Now, let's write a general function to train a model. Here, we will\n",
    "illustrate:\n",
    "\n",
    "-  Scheduling the learning rate\n",
    "-  Saving the best model\n",
    "\n",
    "In the following, parameter ``scheduler`` is an LR scheduler object from\n",
    "``torch.optim.lr_scheduler``.\n",
    "\n"
   ]
  },
  {
   "cell_type": "code",
   "execution_count": null,
   "metadata": {
    "id": "zuOI5D3K3ezy"
   },
   "outputs": [],
   "source": [
    "def train_model(model, criterion, optimizer, scheduler, num_epochs=25):\n",
    "    since = time.time()\n",
    "\n",
    "    best_model_wts = copy.deepcopy(model.state_dict())\n",
    "    best_acc = 0.0\n",
    "\n",
    "    for epoch in range(num_epochs):\n",
    "        print(f\"Epoch {epoch}/{num_epochs - 1}\")\n",
    "        print(\"-\" * 10)\n",
    "\n",
    "        # Each epoch has a training and validation phase\n",
    "        for phase in [\"train\", \"val\"]:\n",
    "            if phase == \"train\":\n",
    "                model.train()  # Set model to training mode\n",
    "            else:\n",
    "                model.eval()  # Set model to evaluate mode\n",
    "\n",
    "            running_loss = 0.0\n",
    "            running_corrects = 0\n",
    "\n",
    "            # Iterate over data.\n",
    "            for inputs, labels in dataloaders[phase]:\n",
    "                inputs = inputs.to(device)\n",
    "                labels = labels.to(device)\n",
    "\n",
    "                # zero the parameter gradients\n",
    "                optimizer.zero_grad()\n",
    "\n",
    "                # forward\n",
    "                # track history if only in train\n",
    "                with torch.set_grad_enabled(phase == \"train\"):\n",
    "                    outputs = model(inputs)\n",
    "                    _, preds = torch.max(outputs, 1)\n",
    "                    loss = criterion(outputs, labels)\n",
    "\n",
    "                    # backward + optimize only if in training phase\n",
    "                    if phase == \"train\":\n",
    "                        loss.backward()\n",
    "                        optimizer.step()\n",
    "\n",
    "                # statistics\n",
    "                running_loss += loss.item() * inputs.size(0)\n",
    "                running_corrects += torch.sum(preds == labels.data)\n",
    "            if phase == \"train\":\n",
    "                scheduler.step()\n",
    "\n",
    "            epoch_loss = running_loss / dataset_sizes[phase]\n",
    "            epoch_acc = running_corrects.double() / dataset_sizes[phase]\n",
    "\n",
    "            print(f\"{phase} Loss: {epoch_loss:.4f} Acc: {epoch_acc:.4f}\")\n",
    "\n",
    "            # deep copy the model\n",
    "            if phase == \"val\" and epoch_acc > best_acc:\n",
    "                best_acc = epoch_acc\n",
    "                best_model_wts = copy.deepcopy(model.state_dict())\n",
    "\n",
    "        print()\n",
    "\n",
    "    time_elapsed = time.time() - since\n",
    "    print(f\"Training complete in {time_elapsed // 60:.0f}m {time_elapsed % 60:.0f}s\")\n",
    "    print(f\"Best val Acc: {best_acc:4f}\")\n",
    "\n",
    "    # load best model weights\n",
    "    model.load_state_dict(best_model_wts)\n",
    "    return model"
   ]
  },
  {
   "attachments": {},
   "cell_type": "markdown",
   "metadata": {
    "id": "9pDscUhI3ezz"
   },
   "source": [
    "### Visualizing the model predictions\n",
    "\n",
    "Generic function to display predictions for a few images. Furthermore, let's also compute the accuracy on the test set.\n",
    "\n",
    "\n"
   ]
  },
  {
   "cell_type": "code",
   "execution_count": null,
   "metadata": {
    "id": "2k4xMhcJ3ezz"
   },
   "outputs": [],
   "source": [
    "def visualize_model(model, num_images=6, num_cols=3):\n",
    "    was_training = model.training\n",
    "    model.eval()\n",
    "    images_so_far = 0\n",
    "    fig = plt.figure()\n",
    "\n",
    "    total, correct = 0, 0\n",
    "\n",
    "    with torch.no_grad():\n",
    "        for i, (inputs, labels) in enumerate(dataloaders[\"val\"]):\n",
    "            inputs = inputs.to(device)\n",
    "            labels = labels.to(device)\n",
    "\n",
    "            outputs = model(inputs)\n",
    "            _, preds = torch.max(outputs, 1)\n",
    "\n",
    "            for j in range(inputs.size()[0]):\n",
    "\n",
    "                if preds[j] == labels.data[j]:\n",
    "                    correct += 1\n",
    "                total += 1\n",
    "\n",
    "                images_so_far += 1\n",
    "                if images_so_far <= num_images:\n",
    "                    color = (\n",
    "                        \"green\" if preds[j] == labels.data[j] else \"red\"\n",
    "                    )  # if correct green, else red\n",
    "                    ax = plt.subplot(\n",
    "                        num_images // num_cols,\n",
    "                        num_cols,\n",
    "                        images_so_far,\n",
    "                        xticks=[],\n",
    "                        yticks=[],\n",
    "                    )\n",
    "                    # ax.axis('off')\n",
    "                    ax.tick_params(color=color, labelcolor=color)\n",
    "                    ax.set_title(f\"pred.: {class_names[preds[j]]}\", color=color)\n",
    "                    imshow(inputs.cpu().data[j], ax=ax)\n",
    "\n",
    "                    for spine in ax.spines.values():\n",
    "                        spine.set_edgecolor(color)\n",
    "\n",
    "        model.train(mode=was_training)\n",
    "    plt.show()\n",
    "\n",
    "    print(f\"Accuracy: {correct/total*100:.1f}%\")\n",
    "    print(f\"Correct: {correct}, Total: {total}\")"
   ]
  },
  {
   "cell_type": "markdown",
   "metadata": {
    "id": "Rk6IQCMJ3ez0"
   },
   "source": [
    "## Finetuning the convnet\n",
    "\n",
    "Load a pretrained model and reset final fully connected layer.\n",
    "\n",
    "\n"
   ]
  },
  {
   "cell_type": "code",
   "execution_count": null,
   "metadata": {
    "id": "RBDr7KBU3ez0"
   },
   "outputs": [],
   "source": [
    "model_ft = models.resnet18(weights=\"DEFAULT\")\n",
    "num_ftrs = model_ft.fc.in_features\n",
    "# Here the size of each output sample is set to the number of classes.\n",
    "model_ft.fc = nn.Linear(num_ftrs, len(class_names))\n",
    "# The last layer has random weights, so we need to retrain the network.\n",
    "\n",
    "model_ft = model_ft.to(device)\n",
    "\n",
    "criterion = nn.CrossEntropyLoss()\n",
    "\n",
    "# Observe that all parameters are being optimized\n",
    "optimizer_ft = optim.SGD(model_ft.parameters(), lr=0.001, momentum=0.9)\n",
    "\n",
    "# Decay LR by a factor of 0.1 every 7 epochs\n",
    "exp_lr_scheduler = lr_scheduler.StepLR(optimizer_ft, step_size=7, gamma=0.1)"
   ]
  },
  {
   "attachments": {},
   "cell_type": "markdown",
   "metadata": {},
   "source": [
    "### Let's see how good our model performs right now (without training)"
   ]
  },
  {
   "cell_type": "code",
   "execution_count": null,
   "metadata": {},
   "outputs": [],
   "source": [
    "visualize_model(model_ft)"
   ]
  },
  {
   "attachments": {},
   "cell_type": "markdown",
   "metadata": {
    "id": "yrkebAjw3ez0"
   },
   "source": [
    "### Train and evaluate\n",
    "\n",
    "It will take a while to train this network. On GPU though, it should be faster.\n",
    "\n",
    "After training for 25 epochs, we get a val accuracy of >80%.\n",
    "\n",
    "\n"
   ]
  },
  {
   "cell_type": "code",
   "execution_count": null,
   "metadata": {
    "id": "HykkcX1J3ez1"
   },
   "outputs": [],
   "source": [
    "model_ft = train_model(\n",
    "    model_ft, criterion, optimizer_ft, exp_lr_scheduler, num_epochs=25\n",
    ")"
   ]
  },
  {
   "cell_type": "code",
   "execution_count": null,
   "metadata": {
    "id": "0U2kyzaE3ez1"
   },
   "outputs": [],
   "source": [
    "visualize_model(model_ft)"
   ]
  },
  {
   "attachments": {},
   "cell_type": "markdown",
   "metadata": {
    "id": "dWPDBC6t3ez1"
   },
   "source": [
    "## ConvNet as fixed feature extractor\n",
    "\n",
    "Here, we need to freeze all the network except the final layer. We need\n",
    "to set ``requires_grad = False`` to freeze the parameters so that the\n",
    "gradients are not computed in ``backward()``.\n",
    "\n",
    "You can read more about this in the [PyTorch documentation](https://pytorch.org/docs/notes/autograd.html#excluding-subgraphs-from-backward)."
   ]
  },
  {
   "cell_type": "code",
   "execution_count": null,
   "metadata": {
    "id": "eGb4nLPD3ez1"
   },
   "outputs": [],
   "source": [
    "model_conv = torchvision.models.resnet18(weights=\"DEFAULT\")\n",
    "for param in model_conv.parameters():\n",
    "    param.requires_grad = False\n",
    "\n",
    "# Parameters of newly constructed modules have requires_grad=True by default\n",
    "num_ftrs = model_conv.fc.in_features\n",
    "# Here the size of each output sample is set to the number of classes.\n",
    "model_conv.fc = nn.Linear(num_ftrs, len(class_names))\n",
    "# The last layer has random weights, so one option is to retrain the last layer only.\n",
    "\n",
    "model_conv = model_conv.to(device)\n",
    "\n",
    "criterion = nn.CrossEntropyLoss()\n",
    "\n",
    "# Observe that only parameters of final layer are being optimized as\n",
    "# opposed to before.\n",
    "optimizer_conv = optim.SGD(model_conv.fc.parameters(), lr=0.001, momentum=0.9)\n",
    "\n",
    "# Decay LR by a factor of 0.1 every 7 epochs\n",
    "exp_lr_scheduler = lr_scheduler.StepLR(optimizer_conv, step_size=7, gamma=0.1)"
   ]
  },
  {
   "attachments": {},
   "cell_type": "markdown",
   "metadata": {
    "id": "LEWeH_uC3ez2"
   },
   "source": [
    "### Train and evaluate\n",
    "\n",
    "This will take less time compared to previous scenario.\n",
    "This is expected as gradients don't need to be computed for most of the\n",
    "network. However, forward does need to be computed as well.\n",
    "\n",
    "After training for 25 epochs, we might get a lower accuracy as before, as we only trained the last layer.\n",
    "If our new dataset is similar to the original dataset (i.e., ImageNet), then we might expect to get a higher accuracy.\n",
    "\n",
    "\n"
   ]
  },
  {
   "cell_type": "code",
   "execution_count": null,
   "metadata": {
    "id": "x8wkHhVC3ez2"
   },
   "outputs": [],
   "source": [
    "model_conv = train_model(\n",
    "    model_conv, criterion, optimizer_conv, exp_lr_scheduler, num_epochs=25\n",
    ")"
   ]
  },
  {
   "cell_type": "code",
   "execution_count": null,
   "metadata": {
    "id": "h0mg4aWx3ez2"
   },
   "outputs": [],
   "source": [
    "visualize_model(model_conv)"
   ]
  },
  {
   "attachments": {},
   "cell_type": "markdown",
   "metadata": {
    "id": "Rk6IQCMJ3ez0"
   },
   "source": [
    "## Training from scratch\n",
    "\n",
    "Lets use a model with random weights and train it from scratch. \n",
    "This is expected to perform poorly as the dataset is very small and the model is very large.\n",
    "More epochs (and more data) might help, but it will still run for a long time.\n",
    "\n",
    "\n"
   ]
  },
  {
   "cell_type": "code",
   "execution_count": null,
   "metadata": {
    "id": "RBDr7KBU3ez0"
   },
   "outputs": [],
   "source": [
    "model_new = models.resnet18(weights=None)\n",
    "# initialize the weight randomly\n",
    "\n",
    "num_ftrs = model_new.fc.in_features\n",
    "# Here the size of each output sample is set to the number of classes.\n",
    "model_new.fc = nn.Linear(num_ftrs, len(class_names))\n",
    "# The last layer has random weights, so we need to retrain the network.\n",
    "\n",
    "model_new = model_new.to(device)\n",
    "\n",
    "criterion = nn.CrossEntropyLoss()\n",
    "\n",
    "# Observe that all parameters are being optimized\n",
    "optimizer_new = optim.SGD(model_new.parameters(), lr=0.001, momentum=0.9)\n",
    "\n",
    "# Decay LR by a factor of 0.1 every 7 epochs\n",
    "exp_lr_scheduler = lr_scheduler.StepLR(optimizer_new, step_size=7, gamma=0.1)"
   ]
  },
  {
   "cell_type": "code",
   "execution_count": null,
   "metadata": {},
   "outputs": [],
   "source": [
    "# without training\n",
    "visualize_model(model_new)"
   ]
  },
  {
   "cell_type": "code",
   "execution_count": null,
   "metadata": {},
   "outputs": [],
   "source": [
    "model_new = train_model(\n",
    "    model_new, criterion, optimizer_new, exp_lr_scheduler, num_epochs=25\n",
    ")"
   ]
  },
  {
   "cell_type": "code",
   "execution_count": null,
   "metadata": {},
   "outputs": [],
   "source": [
    "# after training\n",
    "visualize_model(model_new)"
   ]
  }
 ],
 "metadata": {
  "accelerator": "GPU",
  "colab": {
   "provenance": []
  },
  "gpuClass": "standard",
  "kernelspec": {
   "display_name": "Python 3",
   "language": "python",
   "name": "python3"
  },
  "language_info": {
   "codemirror_mode": {
    "name": "ipython",
    "version": 3
   },
   "file_extension": ".py",
   "mimetype": "text/x-python",
   "name": "python",
   "nbconvert_exporter": "python",
   "pygments_lexer": "ipython3",
   "version": "3.9.12"
  },
  "vscode": {
   "interpreter": {
    "hash": "0a05e4fa746b81761c76a645b508c0f51cdd970f4b4b50ae36c6a73f9a174174"
   }
  }
 },
 "nbformat": 4,
 "nbformat_minor": 0
}
