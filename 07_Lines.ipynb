{
  "cells": [
    {
      "cell_type": "markdown",
      "metadata": {
        "id": "QuUAgQFQlsJU"
      },
      "source": [
        " # Tutorial 07 - Lines and Corners\n",
        " \n",
        " ## Dr. David C. Schedl\n",
        "\n",
        " Note: this tutorial is geared towards students **experienced in programming** and aims to introduce you to **Digital Imaging / Computer Vision** techniques.\n"
      ]
    },
    {
      "cell_type": "markdown",
      "metadata": {
        "id": "GVOsLEGclsJZ"
      },
      "source": [
        "# Table of Contents  \n",
        "\n",
        "\n",
        "- Hough Transformation\n",
        "- Corner Detection\n"
      ]
    },
    {
      "cell_type": "markdown",
      "metadata": {
        "id": "weMMc2WZlsJc"
      },
      "source": [
        "# Initilization"
      ]
    },
    {
      "cell_type": "markdown",
      "metadata": {
        "id": "zkUzZ6lWK_S5"
      },
      "source": [
        "As always let's import useful libraries, first."
      ]
    },
    {
      "cell_type": "code",
      "execution_count": null,
      "metadata": {
        "id": "Gpvh7PPVlsJg"
      },
      "outputs": [],
      "source": [
        "import os\n",
        "import cv2 # openCV\n",
        "import numpy as np\n",
        "import matplotlib.pyplot as plt\n",
        "import plotly.express as px\n",
        "from scipy.optimize import curve_fit\n",
        "from ipywidgets import interact, fixed, IntSlider, FloatSlider"
      ]
    },
    {
      "cell_type": "markdown",
      "metadata": {
        "id": "DnGyZdM2LH71"
      },
      "source": [
        "We will work with images today. So let's download some with `curl` (the same sources as in `02_OpenCV.ipynb`)."
      ]
    },
    {
      "cell_type": "code",
      "execution_count": null,
      "metadata": {
        "colab": {
          "base_uri": "https://localhost:8080/"
        },
        "id": "XTgznuO-LMMH",
        "outputId": "e2aedbeb-9f71-4601-b0f5-0177e9bd5ed7",
        "tags": []
      },
      "outputs": [],
      "source": [
        "!curl -o \"cat.jpg\" \"https://raw.githubusercontent.com/Digital-Media/cv_data/main/example_images/cat.jpg\" --silent\n",
        "!curl -o \"gogh.jpg\" \"https://raw.githubusercontent.com/Digital-Media/cv_data/main/example_images/gogh.jpg\" --silent\n",
        "!curl -o \"sudoku.png\" \"https://raw.githubusercontent.com/Digital-Media/cv_data/main/example_images/sudoku.png\" --silent\n",
        "!curl -o \"shapes.png\" \"https://raw.githubusercontent.com/Digital-Media/cv_data/main/example_images/shapes.png\" --silent\n",
        "!curl -o \"woman.jpg\" \"https://raw.githubusercontent.com/Digital-Media/cv_data/main/example_images/woman.jpg\" --silent"
      ]
    },
    {
      "cell_type": "markdown",
      "metadata": {},
      "source": [
        "# Naive Line Fitting"
      ]
    },
    {
      "cell_type": "markdown",
      "metadata": {},
      "source": [
        "Let's look at a simple example of line fitting, where we try to fit a line with a simple line equation: $y = mx + b$.\n",
        "We use the `scipy.optimize` package to fit the line to the data. <br>\n",
        "Note that this will only work for a single line and breaks if there are multiple lines or noise in the data."
      ]
    },
    {
      "cell_type": "code",
      "execution_count": null,
      "metadata": {},
      "outputs": [],
      "source": [
        "image = np.zeros((50,50),dtype=np.uint8)\n",
        "image[3:33,10:40] = np.eye(30)*255\n",
        "# let's add random noise (off if N=0)\n",
        "N = 0\n",
        "image[np.random.randint(0,50,N), np.random.randint(0,50,N)] = 255\n",
        "\n",
        "\n",
        "# get all the non-zero points\n",
        "points = np.argwhere(image)\n",
        "ys, xs = points[:,0], points[:,1]\n",
        "\n",
        "# a simple line equation y = mx + b (m is the slope, which you might also know as k)\n",
        "def line_eq(x, m, b):\n",
        "    return m*x + b\n",
        "\n",
        "# find m and b\n",
        "(m,b), _ = curve_fit(line_eq, xs, ys)\n",
        "print(m,b)\n",
        "\n",
        "\n",
        "#yshat = line_eq(xs, m, b)\n",
        "\n",
        "# show\n",
        "plt.imshow(image, cmap='gray')\n",
        "#plt.plot(xs, line_eq(xs, m, b))\n",
        "plt.show()"
      ]
    },
    {
      "cell_type": "markdown",
      "metadata": {},
      "source": [
        "# Hough Transformation"
      ]
    },
    {
      "cell_type": "markdown",
      "metadata": {
        "id": "IRupxW-5rhi-"
      },
      "source": [
        "## OpenCV's Hough implementation\n",
        "\n",
        "Let's first look at the implementation available with OpenCV. \n",
        "We can reuse the edge image (`edges`) that we computed before.\n",
        "The function call is\n",
        "```python\n",
        "cv2.HoughLines( edges, rho, theta, threshold )\n",
        "```\n",
        "and the parameters are the edge image, the distance resolution of the accumulator for $d$ in pixels and the angle $\\theta$ in radians, and the accumulator threshold."
      ]
    },
    {
      "cell_type": "code",
      "execution_count": null,
      "metadata": {
        "colab": {
          "base_uri": "https://localhost:8080/",
          "height": 749
        },
        "id": "nrO21rwtPBmE",
        "outputId": "14d279ad-8e28-47d5-e544-df8d8a92fb5d"
      },
      "outputs": [],
      "source": [
        "img = cv2.imread('sudoku.png',0)\n",
        "\n",
        "# OpenCVs implementation using the image as input (not the edges)\n",
        "edges = cv2.Canny(img, 100, 200)\n",
        "image = cv2.rotate( edges, cv2.ROTATE_90_CLOCKWISE ) # reuse edges image\n",
        "\n",
        "# Copy edges to the images that will display the results in BGR\n",
        "cdst = cv2.cvtColor(image, cv2.COLOR_GRAY2BGR)\n",
        "\n",
        "# Standard Hough Line Transform\n",
        "lines = cv2.HoughLines(image, 1, np.pi / 360, 150)\n",
        "\n",
        "if lines is not None:\n",
        "    for i in range(0, len(lines)):\n",
        "        d = lines[i][0][0]\n",
        "        theta = lines[i][0][1]\n",
        "\n",
        "        #print(\"Line {:2d}: d={:6.2f}, theta={:3.0f}\".format(i, d, np.rad2deg(theta)))\n",
        "\n",
        "        # Plot the lines\n",
        "        def line_equation(x):\n",
        "            if abs(theta) < 0.01:\n",
        "                x = int(np.cos(theta) * d)\n",
        "                return x, 0 if x <= 0  else image.shape[0]-1\n",
        "\n",
        "            return x, int((d - np.cos(theta) * x) / np.sin(theta))\n",
        "        \n",
        "        pt1 = line_equation(0)\n",
        "        pt2 = line_equation(image.shape[1]-1)\n",
        "        cv2.line( cdst, pt1, pt2, (255,0,0), 3, cv2.LINE_AA)\n",
        "\n",
        "plt.figure(figsize=(20,10))\n",
        "plt.subplot(121), plt.imshow(image, cmap='gray')\n",
        "plt.subplot(122), plt.imshow(cdst) #\"Detected Lines (Todo)\", \n",
        "plt.show()"
      ]
    },
    {
      "cell_type": "markdown",
      "metadata": {},
      "source": [
        "## Probabilistic Hough Transform\n",
        "\n",
        "OpenCV also provides a probabilistic Hough transform, which is faster for large images and allows to find lines with a minimum length. The function call is:\n",
        "```python\n",
        "cv2.HoughLinesP( edges, rho, theta, threshold, lines, minLineLength, maxLineGap )\n",
        "``` "
      ]
    },
    {
      "cell_type": "code",
      "execution_count": null,
      "metadata": {},
      "outputs": [],
      "source": [
        "img = cv2.imread('sudoku.png',0)\n",
        "\n",
        "# OpenCVs implementation using the image as input (not the edges)\n",
        "edges = cv2.Canny(img, 100, 200)\n",
        "image = cv2.rotate( edges, cv2.ROTATE_90_CLOCKWISE ) # reuse edges image\n",
        "# optionally, we can use the probabilistic hough transform \n",
        "# which allows to set the minimum length of the line\n",
        "lines = cv2.HoughLinesP(image, 1, np.pi / 360, 100, None, 100, 30)\n",
        "\n",
        "# Copy edges to the images that will display the results in BGR\n",
        "cdst = cv2.cvtColor(image, cv2.COLOR_GRAY2BGR)\n",
        "\n",
        "if lines is not None:\n",
        "    for line in lines:\n",
        "        x1,y1,x2,y2 = line[0]\n",
        "        cv2.line( cdst, (x1,y1), (x2,y2), (255,0,0), 3, cv2.LINE_AA)\n",
        "\n",
        "plt.figure(figsize=(20,10))\n",
        "plt.subplot(121), plt.imshow(image, cmap='gray')\n",
        "plt.subplot(122), plt.imshow(cdst) #\"Detected Lines (Todo)\", \n",
        "plt.show()"
      ]
    },
    {
      "cell_type": "markdown",
      "metadata": {
        "id": "OfrF0z0E8KrO"
      },
      "source": [
        "## Non-OpenCV implementation\n",
        "\n",
        "To understand the algorithm better let's also look at an implementation without the builtin function of OpenCV. This implementation can also be found [online](https://github.com/alyssaq/hough_transform). \n",
        "Note: the implementation is only for illustration and there might be more efficient/robust ways of implementing it."
      ]
    },
    {
      "cell_type": "code",
      "execution_count": null,
      "metadata": {
        "colab": {
          "base_uri": "https://localhost:8080/",
          "height": 445
        },
        "id": "Dtbj2RTvRIBG",
        "outputId": "714b6452-8ee3-412d-dc28-40459418271a"
      },
      "outputs": [],
      "source": [
        "def hough_line(img):\n",
        "  # ds and Theta ranges\n",
        "  thetas = np.deg2rad(np.arange(-90.0, 90.0))\n",
        "  width, height = img.shape\n",
        "  diag_len = int(np.ceil(np.sqrt(width * width + height * height)))  # max_dist\n",
        "  ds = np.linspace(-diag_len, diag_len, diag_len*2)\n",
        "\n",
        "  # Cache some resuable values\n",
        "  cos_t = np.cos(thetas)\n",
        "  sin_t = np.sin(thetas)\n",
        "  num_thetas = len(thetas)\n",
        "\n",
        "  # Hough accumulator array of theta vs rho\n",
        "  accumulator = np.zeros((2 * diag_len, num_thetas), dtype=np.uint64)\n",
        "  y_idxs, x_idxs = np.nonzero(img)  # (row, col) indexes to edges\n",
        "\n",
        "  # Vote in the hough accumulator\n",
        "  for i in range(len(x_idxs)):\n",
        "    x = x_idxs[i]\n",
        "    y = y_idxs[i]\n",
        "\n",
        "    for t_idx in range(num_thetas):\n",
        "      # Calculate rho. diag_len is added for a positive index\n",
        "      d = round(x * cos_t[t_idx] + y * sin_t[t_idx]) + diag_len\n",
        "      accumulator[d, t_idx] += 1\n",
        "\n",
        "  return accumulator, thetas, ds\n",
        "\n",
        "# Create binary image and call hough_line\n",
        "image = np.zeros((50,50),dtype=np.uint8)\n",
        "#image[:, :] = np.eye(50)[::-1, :]# + np.eye(50)#[::-1, :]\n",
        "image[3:33,10:40] = np.eye(30)*255\n",
        "# let's add random noise (off if N=0)\n",
        "N = 0\n",
        "image[np.random.randint(0,50,N), np.random.randint(0,50,N)] = 255\n",
        "\n",
        "accumulator, thetas, ds = hough_line(image)\n",
        "\n",
        "cdst = cv2.cvtColor(image, cv2.COLOR_GRAY2BGR)\n",
        "\n",
        "\n",
        "# Easiest peak finding based on max votes\n",
        "idx = np.argmax(accumulator)\n",
        "d = ds[int(idx / accumulator.shape[1])]\n",
        "theta = thetas[idx % accumulator.shape[1]]\n",
        "print(\"d={:.2f}, theta={:.0f}\".format(d, np.rad2deg(theta)))\n",
        "\n",
        "# Plot the line\n",
        "def line_equation(x):\n",
        "    if abs(theta) < 0.01:\n",
        "        x_ = int(d)\n",
        "        return x_, 0 if x <= 0  else image.shape[0]-1\n",
        "\n",
        "    return x, int((d - np.cos(theta) * x) / np.sin(theta))\n",
        "\n",
        "pt1 = line_equation(0)\n",
        "pt2 = line_equation(image.shape[1]-1)\n",
        "cv2.line( cdst, pt1, pt2, (255,0,0), 1, cv2.LINE_AA)\n",
        "\n",
        "plt.figure(figsize=(15,10))\n",
        "plt.subplot(121), plt.imshow(cdst), plt.title( 'original' )\n",
        "plt.subplot(122), plt.imshow((accumulator), cmap='hot'), plt.title( 'Hough space' ) \n",
        "plt.show()"
      ]
    },
    {
      "cell_type": "markdown",
      "metadata": {},
      "source": [
        "# Harris Corner Detection\n",
        "\n",
        "Let's display the result of the Harris corner detection algorithm. The function call is:\n",
        "```python\n",
        "cv2.cornerHarris( gray, blockSize, ksize, k )\n",
        "```\n",
        "where `gray` is the grayscale image, `blockSize` is the size of the neighborhood considered for corner detection, `ksize` is the aperture parameter of the Sobel derivative used, and `k` is a free parameter of the Harris detector."
      ]
    },
    {
      "cell_type": "code",
      "execution_count": null,
      "metadata": {},
      "outputs": [],
      "source": [
        "img = cv2.imread('sudoku.png',0)\n",
        "\n",
        "def corner_harris(block_size, ksize, k):\n",
        "    # OpenCVs implementation using the image as input (not the edges)\n",
        "    corners = cv2.cornerHarris(img, blockSize=block_size, ksize=ksize, k=k)\n",
        "\n",
        "    # Copy edges to the images that will display the results in BGR\n",
        "    cdst = cv2.cvtColor(img, cv2.COLOR_GRAY2BGR)\n",
        "\n",
        "    # Threshold for an optimal value, it may vary depending on the image.\n",
        "    cdst[corners>0.01*corners.max()]=[0,0,255]\n",
        "\n",
        "    plt.figure(figsize=(10,10))\n",
        "    plt.imshow(cdst) #\"Detected Edges\",\n",
        "    plt.show()\n",
        "\n",
        "# interactivity\n",
        "interact(\n",
        "    corner_harris,\n",
        "    block_size=IntSlider(min=1, max=50, step=1, value=5),\n",
        "    ksize=IntSlider(min=1, max=9, step=2, value=3),\n",
        "    k = FloatSlider(min=0.01, max=0.5, step=0.01, value=0.04)\n",
        ")"
      ]
    }
  ],
  "metadata": {
    "colab": {
      "collapsed_sections": [
        "tXV5YxS7lsU2"
      ],
      "name": "07_Lines.ipynb",
      "provenance": [],
      "toc_visible": true
    },
    "kernelspec": {
      "display_name": "Python 3.8.10 64-bit (microsoft store)",
      "language": "python",
      "name": "python3"
    },
    "language_info": {
      "codemirror_mode": {
        "name": "ipython",
        "version": 3
      },
      "file_extension": ".py",
      "mimetype": "text/x-python",
      "name": "python",
      "nbconvert_exporter": "python",
      "pygments_lexer": "ipython3",
      "version": "3.9.12"
    },
    "varInspector": {
      "cols": {
        "lenName": 16,
        "lenType": 16,
        "lenVar": 40
      },
      "kernels_config": {
        "python": {
          "delete_cmd_postfix": "",
          "delete_cmd_prefix": "del ",
          "library": "var_list.py",
          "varRefreshCmd": "print(var_dic_list())"
        },
        "r": {
          "delete_cmd_postfix": ") ",
          "delete_cmd_prefix": "rm(",
          "library": "var_list.r",
          "varRefreshCmd": "cat(var_dic_list()) "
        }
      },
      "types_to_exclude": [
        "module",
        "function",
        "builtin_function_or_method",
        "instance",
        "_Feature"
      ],
      "window_display": false
    },
    "vscode": {
      "interpreter": {
        "hash": "0bae4c9257a18836fb2e3dc2d0aeb6355625d596c4075009294ab101cd3e0d3c"
      }
    }
  },
  "nbformat": 4,
  "nbformat_minor": 0
}
