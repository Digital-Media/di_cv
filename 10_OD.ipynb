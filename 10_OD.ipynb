{
  "cells": [
    {
      "cell_type": "markdown",
      "metadata": {
        "id": "DEM-kgfUPj3u",
        "vscode": {
          "languageId": "raw"
        }
      },
      "source": [
        "# Tutorial 10 - Object Detection with YOLO\n",
        "\n",
        "## Dr. David C. Schedl\n",
        "\n",
        "Note: this tutorial is geared towards students **experienced in programming** and aims to introduce you to **Digital Imaging / Computer Vision** techniques.\n",
        "\n",
        "## Setup\n",
        "As first step, we need to import the necessary libraries and download the dataset.\n"
      ]
    },
    {
      "cell_type": "code",
      "execution_count": null,
      "metadata": {
        "colab": {
          "base_uri": "https://localhost:8080/"
        },
        "id": "OGJSE6rcPj3x",
        "outputId": "a400da08-dd25-41a6-98e0-0aa98fe6e8b0"
      },
      "outputs": [],
      "source": [
        "\n",
        "# Setup and import of libraries\n",
        "import zipfile\n",
        "import os\n",
        "from PIL import Image\n",
        "import matplotlib.pyplot as plt\n",
        "import numpy as np\n",
        "\n",
        "# Download and extract the FHHGB Hockey Dataset\n",
        "!curl -LJO \"https://raw.githubusercontent.com/Digital-Media/cv_data/main/fhhgb-hockey-dataset.zip\" --silent\n",
        "\n",
        "# Create data directory if it doesn't exist\n",
        "os.makedirs(\"data\", exist_ok=True)\n",
        "\n",
        "# Extract the dataset to the data directory\n",
        "with zipfile.ZipFile(\"fhhgb-hockey-dataset.zip\", 'r') as zip_ref:\n",
        "    zip_ref.extractall(\"data\")\n",
        "\n",
        "print(\"Dataset extracted to data/ directory\")"
      ]
    },
    {
      "cell_type": "markdown",
      "metadata": {
        "id": "jXE5bM-vPj3z",
        "vscode": {
          "languageId": "raw"
        }
      },
      "source": [
        "# Loading a Pre-trained YOLO Model\n",
        "\n",
        "We'll start by loading a pre-trained YOLO model that has been trained on the FHHGB Hockey Dataset. This model can detect hockey nets and pucks in hockey game footage.\n",
        "\n",
        "YOLO (You Only Look Once) is a state-of-the-art, real-time object detection system that can identify and locate objects in images with high accuracy and speed.\n"
      ]
    },
    {
      "cell_type": "code",
      "execution_count": null,
      "metadata": {
        "colab": {
          "base_uri": "https://localhost:8080/"
        },
        "id": "sd_JTy-7Pj3z",
        "outputId": "d10fbb7d-7343-4d73-f858-d529e5d975e5"
      },
      "outputs": [],
      "source": [
        "# Install and import YOLO\n",
        "try:\n",
        "    import ultralytics\n",
        "except ImportError:\n",
        "    get_ipython().run_line_magic('pip', 'install ultralytics --quiet')\n",
        "\n",
        "from ultralytics import YOLO\n",
        "\n",
        "# Load a pretrained YOLO model trained on hockey dataset\n",
        "model = YOLO(\"./data/FHHGB-Hockey-Dataset/models/weights.pt\")\n",
        "\n",
        "print(\"Model loaded successfully!\")\n",
        "print(f\"Model classes: {model.names}\")\n"
      ]
    },
    {
      "cell_type": "markdown",
      "metadata": {
        "id": "ivnYepZrPj3z",
        "vscode": {
          "languageId": "raw"
        }
      },
      "source": [
        "# Object Detection on a Single Image\n",
        "\n",
        "Let's test our model on a single image from the test set to see how it performs. We'll use one of the hockey images to demonstrate the object detection capabilities.\n"
      ]
    },
    {
      "cell_type": "code",
      "execution_count": null,
      "metadata": {
        "colab": {
          "base_uri": "https://localhost:8080/"
        },
        "id": "rHdzZb0MPj30",
        "outputId": "608683d8-d55c-4cd7-fff8-c0e7a6219039"
      },
      "outputs": [],
      "source": [
        "# Select a test image from the hockey dataset\n",
        "test_image_path = \"data/FHHGB-Hockey-Dataset/test/images/data1-12_png_jpg.rf.ec74890a35a41e81fa73e82288f71d83.jpg\"\n",
        "\n",
        "# Verify the image exists\n",
        "if os.path.exists(test_image_path):\n",
        "    print(f\"Using test image: {test_image_path}\")\n",
        "    \n",
        "    # Perform object detection on the test image\n",
        "    results = model(test_image_path)\n",
        "    \n",
        "    print(f\"Detection completed on: {test_image_path}\")\n",
        "else:\n",
        "    print(f\"Test image not found: {test_image_path}\")"
      ]
    },
    {
      "cell_type": "markdown",
      "metadata": {
        "id": "WBtGNvNgPj30",
        "vscode": {
          "languageId": "raw"
        }
      },
      "source": [
        "# Visualizing Detection Results\n",
        "\n",
        "Now let's visualize the detection results. The model will draw bounding boxes around detected objects and label them with their class names and confidence scores.\n"
      ]
    },
    {
      "cell_type": "code",
      "execution_count": null,
      "metadata": {
        "colab": {
          "base_uri": "https://localhost:8080/",
          "height": 693
        },
        "id": "fburRih1Pj30",
        "outputId": "e0e92179-d4c3-427d-a3a1-4a66767163e3"
      },
      "outputs": [],
      "source": [
        "# Visualize the results\n",
        "for i, r in enumerate(results):\n",
        "    # Plot results image (convert BGR to RGB for display)\n",
        "    im_bgr = r.plot()  # BGR-order numpy array\n",
        "    im_rgb = Image.fromarray(im_bgr[..., ::-1])  # RGB-order PIL image\n",
        "\n",
        "    # Display the image with detections\n",
        "    plt.figure(figsize=(12, 8))\n",
        "    plt.imshow(im_rgb)\n",
        "    plt.title(f\"Object Detection Results - Image {i+1}\")\n",
        "    plt.axis('off')\n",
        "    plt.show()\n",
        "\n",
        "    # Save results to disk\n",
        "    r.save(filename=f\"results{i}.jpg\")\n",
        "    print(f\"Results saved as: results{i}.jpg\")\n"
      ]
    },
    {
      "cell_type": "markdown",
      "metadata": {
        "id": "57lX0mwqPj31",
        "vscode": {
          "languageId": "raw"
        }
      },
      "source": [
        "## Analyzing Detection Results\n",
        "\n",
        "Let's examine the detection results in more detail to understand what objects were detected and their confidence scores.\n"
      ]
    },
    {
      "cell_type": "code",
      "execution_count": null,
      "metadata": {
        "colab": {
          "base_uri": "https://localhost:8080/"
        },
        "id": "iuwsiDpePj31",
        "outputId": "87ea3bb4-e6ee-4d82-ae91-29a2ad7b7b6d"
      },
      "outputs": [],
      "source": [
        "# Analyze detection results\n",
        "for i, r in enumerate(results):\n",
        "    print(f\"\\n=== Detection Results for Image {i+1} ===\")\n",
        "\n",
        "    if r.boxes is not None:\n",
        "        # Get detection information\n",
        "        boxes = r.boxes\n",
        "        print(f\"Number of detections: {len(boxes)}\")\n",
        "\n",
        "        for j, box in enumerate(boxes):\n",
        "            # Get class name and confidence\n",
        "            cls = int(box.cls[0])\n",
        "            conf = float(box.conf[0])\n",
        "            class_name = model.names[cls]\n",
        "\n",
        "            # Get bounding box coordinates\n",
        "            x1, y1, x2, y2 = box.xyxy[0].cpu().numpy()\n",
        "\n",
        "            print(f\"  Detection {j+1}: {class_name} (confidence: {conf:.3f})\")\n",
        "            print(f\"    Bounding box: ({x1:.1f}, {y1:.1f}) to ({x2:.1f}, {y2:.1f})\")\n",
        "    else:\n",
        "        print(\"No objects detected in this image.\")\n"
      ]
    },
    {
      "cell_type": "markdown",
      "metadata": {
        "id": "PE7aXx8jPj31",
        "vscode": {
          "languageId": "raw"
        }
      },
      "source": [
        "# Model Validation and Performance Metrics\n",
        "\n",
        "Now let's evaluate the model's performance on the validation set to get quantitative metrics like precision, recall, and mAP (mean Average Precision).\n",
        "\n",
        "**Key Performance Metrics:**\n",
        "- **Precision**: Ratio of true positive detections to all positive detections\n",
        "- **Recall**: Ratio of true positive detections to all actual objects\n",
        "- **mAP@0.5**: Mean Average Precision at IoU threshold of 0.5\n",
        "- **mAP@0.5:0.95**: Mean Average Precision averaged over IoU thresholds from 0.5 to 0.95\n"
      ]
    },
    {
      "cell_type": "code",
      "execution_count": null,
      "metadata": {
        "colab": {
          "base_uri": "https://localhost:8080/"
        },
        "id": "1qg4QumSPj31",
        "outputId": "84439d5e-2114-4584-a227-e642b2521258"
      },
      "outputs": [],
      "source": [
        "# Run validation on the validation set\n",
        "print(\"Running validation on the validation set...\")\n",
        "metrics_val = model.val(data=\"data/FHHGB-Hockey-Dataset/data.yaml\", split=\"val\")\n",
        "\n",
        "print(\"\\nValidation completed!\")\n",
        "print(\"Results and plots saved to the 'runs/detect/' directory\")\n",
        "\n"
      ]
    },
    {
      "cell_type": "markdown",
      "metadata": {
        "id": "0MPKmRIuPj32",
        "vscode": {
          "languageId": "raw"
        }
      },
      "source": [
        "# Understanding Object Detection Results\n",
        "\n",
        "## Class-Specific Performance\n",
        "\n",
        "The model shows different performance for different classes:\n",
        "- **Net detection**: Generally high accuracy due to its large, distinctive appearance\n",
        "- **Puck detection**: Lower accuracy due to its small size and fast movement\n",
        "\n",
        "## Practical Applications\n",
        "\n",
        "This hockey object detection model could be used for:\n",
        "- **Automated game analysis**: Track game events and statistics\n",
        "- **Player tracking systems**: Analyze player movements and positions  \n",
        "- **Goal detection and verification**: Automatic goal confirmation\n",
        "- **Training data generation**: Create datasets for sports analytics\n"
      ]
    },
    {
      "cell_type": "markdown",
      "metadata": {
        "id": "zZzMtZoePj32",
        "vscode": {
          "languageId": "raw"
        }
      },
      "source": [
        "# Exercises 📝\n",
        "\n",
        "### Exercise 1 📝: Test on Different Images\n",
        "Try running the model on other test images from the dataset. Load different images from the `data/FHHGB-Hockey-Dataset/test/images/` directory and analyze the detection results.\n",
        "\n",
        "### Exercise 2 📝: Analyze Failure Cases\n",
        "Look for images where the model fails to detect objects correctly or produces false positives. What characteristics do these images have? Consider factors like:\n",
        "- Image quality and lighting\n",
        "- Object size and position\n",
        "- Background complexity\n",
        "\n",
        "### Exercise 3 📝: Confidence Thresholding\n",
        "Experiment with different confidence thresholds to see how they affect detection results. You can modify the confidence threshold using:\n",
        "```python\n",
        "results = model(test_image_path, conf=0.5)  # Change conf value\n",
        "```\n",
        "\n",
        "\n",
        "## Useful Links\n",
        "\n",
        "- [Ultralytics YOLO Documentation](https://docs.ultralytics.com/)\n",
        "- [Our Hockey Dataset on Roboflow](https://app.roboflow.com/dvcss25/fhhgb-hockey-dataset)\n"
      ]
    }
  ],
  "metadata": {
    "colab": {
      "provenance": []
    },
    "kernelspec": {
      "display_name": "venv",
      "language": "python",
      "name": "python3"
    },
    "language_info": {
      "codemirror_mode": {
        "name": "ipython",
        "version": 3
      },
      "file_extension": ".py",
      "mimetype": "text/x-python",
      "name": "python",
      "nbconvert_exporter": "python",
      "pygments_lexer": "ipython3",
      "version": "3.12.6"
    }
  },
  "nbformat": 4,
  "nbformat_minor": 0
}
