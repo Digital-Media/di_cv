{
  "cells": [
    {
      "cell_type": "markdown",
      "metadata": {},
      "source": [
        "# Homework 04 - Hockey Dataset (Group-based ML-Task)\n",
        "\n",
        "Contact: David C. Schedl (david.schedl@fh-hagenberg.at)\n",
        "\n",
        "Note: this is the starter pack for the **Digital Imaging / Computer Vision** homework. You do not need to use the exact same template and can start from scratch as well!\n",
        "Using regular Python files (.py) is also possible.\n",
        "\n",
        "## Task Overview\n",
        "\n",
        "The goal of this group-based machine-learning task is to work with the FHHGB Hockey Dataset that we created together and evaluate the performance of our trained YOLO model. This assignment focuses on practical experience with object detection workflows and critical analysis of model performance.\n",
        "\n",
        "**Dataset Reference**: Use the hockey dataset and trained model from `10_OD.ipynb` as your starting point."
      ]
    },
    {
      "cell_type": "markdown",
      "metadata": {},
      "source": [
        "# Tasks\n",
        "\n",
        "## Model Performance Evaluation\n",
        "Analyze the overall model performance using the validation metrics:\n",
        "- Interpret the validation results from the model evaluation\n",
        "- Compare performance between different object classes (nets vs pucks)\n",
        "\n",
        "## Model Testing and Analysis\n",
        "Test the trained YOLO model on different images from the hockey dataset:\n",
        "- Select at least 5 different test images from `data/FHHGB-Hockey-Dataset/test/images/`\n",
        "- Analyze detection results for each image\n",
        "- Document which objects (nets, pucks) are detected correctly and which are missed\n",
        "- Compare detection performance across different image scenarios\n",
        "\n",
        "## Failure Case Analysis\n",
        "Identify and analyze cases where the model performs poorly:\n",
        "- Find images with false positives (incorrect detections)\n",
        "- Find images with false negatives (missed objects)\n",
        "- Analyze what factors contribute to poor performance:\n",
        "  - Image quality and lighting conditions\n",
        "  - Object size and visibility\n",
        "  - Background complexity and clutter\n",
        "  - Camera angle and perspective\n",
        "- Document your findings with specific examples\n",
        "- Are there potential issues in the dataset?\n",
        "\n",
        "## Dataset Contribution Documentation\n",
        "Document your individual contribution to the FHHGB Hockey Dataset creation process:\n",
        "\n",
        "**Image Collection (if applicable)**: Describe your role in gathering hockey images (if applicable)\n",
        "- What sources did you use (video frames, online sources, etc.)?\n",
        "- What criteria did you use for image selection?\n",
        "\n",
        "**Image Labeling**: Detail your labeling work on Roboflow\n",
        "- What challenges did you encounter during labeling?\n",
        "- How did you ensure labeling consistency and quality?\n",
        "\n",
        "\n",
        "\n",
        "\n",
        "**Focus on critical thinking and analysis rather than just completing the technical steps.**\n"
      ]
    }
  ],
  "metadata": {
    "language_info": {
      "name": "python"
    }
  },
  "nbformat": 4,
  "nbformat_minor": 2
}
