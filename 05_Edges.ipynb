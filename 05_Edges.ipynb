{
  "cells": [
    {
      "cell_type": "markdown",
      "metadata": {
        "id": "QuUAgQFQlsJU"
      },
      "source": [
        "# Tutorial 05 - Edges\n",
        "\n",
        "## Dr. David C. Schedl\n",
        "\n",
        "Note: this tutorial is geared towards students **experienced in programming** and aims to introduce you to **Digital Imaging / Computer Vision** techniques.\n"
      ]
    },
    {
      "cell_type": "markdown",
      "metadata": {
        "id": "GVOsLEGclsJZ"
      },
      "source": [
        "# Table of Contents  \n",
        "\n",
        "- Practice with Filters\n",
        "- Canny Edge Detection\n"
      ]
    },
    {
      "cell_type": "markdown",
      "metadata": {
        "id": "weMMc2WZlsJc"
      },
      "source": [
        "# Initilization"
      ]
    },
    {
      "cell_type": "markdown",
      "metadata": {
        "id": "zkUzZ6lWK_S5"
      },
      "source": [
        "As always let's import useful libraries, first."
      ]
    },
    {
      "cell_type": "code",
      "execution_count": null,
      "metadata": {
        "id": "Gpvh7PPVlsJg"
      },
      "outputs": [],
      "source": [
        "import os\n",
        "import cv2 # openCV\n",
        "import numpy as np\n",
        "import matplotlib.pyplot as plt\n",
        "import plotly.express as px"
      ]
    },
    {
      "cell_type": "markdown",
      "metadata": {
        "id": "DnGyZdM2LH71"
      },
      "source": [
        "We will work with images today. So let's download some with `curl` (the same sources as in `02_OpenCV.ipynb`)."
      ]
    },
    {
      "cell_type": "code",
      "execution_count": null,
      "metadata": {
        "colab": {
          "base_uri": "https://localhost:8080/"
        },
        "id": "XTgznuO-LMMH",
        "outputId": "e2aedbeb-9f71-4601-b0f5-0177e9bd5ed7",
        "tags": []
      },
      "outputs": [],
      "source": [
        "!curl -o \"cat.jpg\" \"https://placekitten.com/320/320\" --silent\n",
        "!curl -o \"gogh.jpg\" \"https://upload.wikimedia.org/wikipedia/commons/thumb/3/32/Vincent_van_Gogh_-_National_Gallery_of_Art.JPG/367px-Vincent_van_Gogh_-_National_Gallery_of_Art.JPG\" --silent\n",
        "!curl -o \"einstein.jpg\" \"https://www.cns.nyu.edu/~lcv/ssim/index_files/image003.jpg\" --silent\n",
        "!curl -o \"woman.jpg\" \"https://live.staticflickr.com/8859/18045025168_3a1ffa6521_c_d.jpg\" --silent"
      ]
    },
    {
      "cell_type": "markdown",
      "metadata": {},
      "source": [
        "# Interpolation in Python\n"
      ]
    },
    {
      "cell_type": "markdown",
      "metadata": {},
      "source": [
        "## Interpolation in 1D\n",
        "\n",
        "First let's look at interpolation in 1D. We will use the `scipy.interpolate` module with the `interp1d` function to approximate a function of sines. "
      ]
    },
    {
      "cell_type": "code",
      "execution_count": null,
      "metadata": {},
      "outputs": [],
      "source": [
        "# 1D Interpolation in Python\n",
        "from scipy.interpolate import interp1d\n",
        "\n",
        "x_max = 2.5*np.pi\n",
        "x = np.linspace(0, x_max, 1000)\n",
        "fun = lambda x: np.sin(3*x) + np.sin(2*x) + np.sin(x)# + np.sin(0.5*x)\n",
        "\n",
        "# make the figure larger\n",
        "plt.figure(figsize=(13, 8))\n",
        "\n",
        "plt.plot(x, fun(x), 'k:', label='GT')\n",
        "\n",
        "# only sample 15 points\n",
        "x_ = np.linspace(0, x_max, 15)\n",
        "y_ = fun(x_)\n",
        "plt.plot(x_, y_, 'ko', label='Samples')\n",
        "\n",
        "for kind in ['nearest', 'linear', 'cubic']:\n",
        "    f = interp1d(x_, y_, kind=kind)\n",
        "    plt.plot(x, f(x), '--' if kind == 'nearest' else '', label=kind.capitalize()+\" interpolation\")\n",
        "\n",
        "\n",
        "plt.legend(loc='best')\n",
        "plt.show()"
      ]
    },
    {
      "cell_type": "markdown",
      "metadata": {},
      "source": [
        "## 2D Image Interpolation using OpenCV\n",
        "\n",
        "Now let's look at 2D interpolation. We will use the `cv2.resize` function to resize an image to a 10-times larger size. <br>\n",
        "We will use the `interpolation=` parameter to specify the interpolation methods nearest, bilinear, bicubic and Lanczos. <br>\n",
        "While cubic interpolation uses 4x4 pixel neighborhood, Lanczos uses 8x8 pixels."
      ]
    },
    {
      "cell_type": "code",
      "execution_count": null,
      "metadata": {},
      "outputs": [],
      "source": [
        "# 2D Interpolation with OpenCV\n",
        "\n",
        "# make a synthetic image\n",
        "img = np.zeros((32,32,3), dtype=np.uint8)\n",
        "img[0:16, 0:16, 0] = 255\n",
        "img[np.eye(32, dtype=bool),1] = 255\n",
        "img[np.roll(np.eye(32, dtype=bool),(1,0)),1] = 255\n",
        "img[16:19, :, 2] = 255\n",
        "\n",
        "# load an image\n",
        "img = cv2.resize(cv2.imread('cat.jpg'), (32, 32), interpolation=cv2.INTER_AREA)\n",
        "\n",
        "\n",
        "# make the figure larger\n",
        "plt.figure(figsize=(10, 11))\n",
        "\n",
        "# resize the image to 256x256 pixels with nearest, bilinear, and bicubic interpolation\n",
        "for i, kind in enumerate(['nearest', 'bilinear', 'bicubic', 'lanczos4']):\n",
        "    cv_inter = {\n",
        "        'nearest': cv2.INTER_NEAREST, \n",
        "        'bilinear': cv2.INTER_LINEAR, \n",
        "        'bicubic': cv2.INTER_CUBIC,\n",
        "        'lanczos4': cv2.INTER_LANCZOS4\n",
        "    }[kind]\n",
        "    plt.subplot(2, 2, i+1)\n",
        "    plt.imshow(cv2.resize(img, (320, 320), interpolation=cv_inter))\n",
        "    plt.axis('off')\n",
        "    plt.title(kind.capitalize()+\" interpolation\")\n"
      ]
    },
    {
      "cell_type": "markdown",
      "metadata": {
        "id": "b1E5rZhL21bG"
      },
      "source": [
        "# Practice with linear filters\n",
        "\n",
        "Image filters in OpenCV are applied with `cv2.filter2D(img,-1,kernel)`, where the image and the kernel are numpy arrays.\n",
        "You can define a custom kernel by defining a numpy array:  \n",
        "```\n",
        "np.array([[0,0,0],\n",
        "          [0,1,0],\n",
        "          [0,0,0]])\n",
        "```\n"
      ]
    },
    {
      "cell_type": "markdown",
      "metadata": {
        "id": "y4lAjAM9kmg5"
      },
      "source": [
        "## Exercise 1 📝: <a name=\"Exercise_1\" id=\"Exercise_1\">  </a> What results do you expect?\n",
        "\n",
        "What results do you expect if you apply the following kernels:\n",
        "\n",
        "1. \n",
        "    \\begin{pmatrix}\n",
        "    0 & 0 & 0\\\\\n",
        "    0 & 1 & 0\\\\\n",
        "    0 & 0 & 0 \n",
        "    \\end{pmatrix}\n",
        "\n",
        "2. \n",
        "    \\begin{pmatrix}\n",
        "    0 & 0 & 0\\\\\n",
        "    0 & 0 & 1\\\\\n",
        "    0 & 0 & 0 \n",
        "    \\end{pmatrix}\n",
        "\n",
        "3. \n",
        "    \\begin{pmatrix}\n",
        "    1 & 0 & -1\\\\\n",
        "    2 & 0 & -2\\\\\n",
        "    1 & 0 & -1 \n",
        "    \\end{pmatrix}\n",
        "\n",
        "4. Furthermore, what do you expect if you filter an image with:\n",
        "  \\begin{pmatrix}\n",
        "      0 & 0 & 0\\\\\n",
        "      0 & 2 & 0\\\\\n",
        "      0 & 0 & 0 \n",
        "  \\end{pmatrix}\n",
        "  and subtract another filtered image from the result. The second image is filtered with:    \n",
        "  \\begin{pmatrix}\n",
        "      \\frac{1}{9}  & \\frac{1}{9}  & \\frac{1}{9} \\\\\n",
        "      \\frac{1}{9}  & \\frac{1}{9}  & \\frac{1}{9} \\\\\n",
        "      \\frac{1}{9}  & \\frac{1}{9}  & \\frac{1}{9} \n",
        "  \\end{pmatrix} "
      ]
    },
    {
      "cell_type": "code",
      "execution_count": null,
      "metadata": {
        "colab": {
          "base_uri": "https://localhost:8080/",
          "height": 429
        },
        "id": "0f7tq2_D4Vy9",
        "outputId": "878e5d9d-09ab-486a-abfc-c0bfad9600c5"
      },
      "outputs": [],
      "source": [
        "img = cv2.imread('einstein.jpg')[:,:,1].astype(np.float32)\n",
        "\n",
        "# define your costum kernel below\n",
        "kernel = np.array([[0,0,0],\n",
        "                   [0,1,0],\n",
        "                   [0,0,0]])\n",
        "dst = cv2.filter2D(img,-1,kernel)\n",
        "\n",
        "plt.figure(figsize=(15,10)) # this command makes the figure larger so we see the filter results clearer\n",
        "plt.subplot(121),plt.imshow(img, cmap='gray'),plt.title('Original')\n",
        "plt.subplot(122),plt.imshow((dst), cmap='gray'),plt.title(r'Filtered ({}$\\times${})'.format(*kernel.shape[:2]))\n",
        "plt.show()"
      ]
    },
    {
      "cell_type": "markdown",
      "metadata": {
        "id": "ymS5Jla0zfYZ"
      },
      "source": [
        "# Canny Edge Detection\n",
        "\n",
        "Probably the most widely used edge detector in computer vision.\n",
        "Canny showed that first derivative of Gaussian closely approximates the operator that optimizes the product of signal-to-noise ratio and localization.\n",
        "\n",
        "Scientific Paper: [J. Canny, A Computational Approach To Edge Detection, IEEE Trans. Pattern Analysis and Machine Intelligence, 8:679-714, 1986.](https://ieeexplore.ieee.org/document/4767851?isnumber=4767846&arnumber=4767851&count=16&index=4)\n"
      ]
    },
    {
      "cell_type": "markdown",
      "metadata": {
        "id": "Ut57uLoFpmIJ"
      },
      "source": [
        "## OpenCV's Canny implementation\n",
        "\n",
        "Let's first look at the implementation available with OpenCV. \n",
        "```\n",
        "cv2.Canny(dx, dy, threshold1, threshold2)\n",
        "```\n",
        "The `Canny` function takes the derivatives in x and y and two hysteresis thresholds as input.\n",
        "Let's also look at the magnitude and the orientation."
      ]
    },
    {
      "cell_type": "code",
      "execution_count": null,
      "metadata": {
        "colab": {
          "base_uri": "https://localhost:8080/",
          "height": 962
        },
        "id": "oTynYNVCziVY",
        "outputId": "271414dd-7dbc-4c2e-d222-70e20f3170ce"
      },
      "outputs": [],
      "source": [
        "img = cv2.imread('woman.jpg',0)\n",
        "\n",
        "gsize = (15,15)\n",
        "#img = cv2.GaussianBlur(img, gsize, 3)\n",
        "\n",
        "ksize = 3\n",
        "#edges = cv2.Canny(img,100,200,apertureSize=ksize)\n",
        "\n",
        "sobelx = cv2.Sobel(img,cv2.CV_64F,1,0,ksize=ksize)\n",
        "sobely = cv2.Sobel(img,cv2.CV_64F,0,1,ksize=ksize)\n",
        "\n",
        "plt.figure(figsize=(20,10))\n",
        "plt.subplot(1,2,1),plt.imshow(sobelx,cmap = 'gray'), plt.title('Sobel X')\n",
        "plt.subplot(1,2,2),plt.imshow(sobely,cmap = 'gray'), plt.title('Sobel Y')\n",
        "plt.show()\n",
        "\n",
        "mag = np.sqrt( sobelx**2 + sobely**2 )\n",
        "theta = np.arctan2(sobelx, sobely)\n",
        "\n",
        "plt.figure(figsize=(20,10)) # this command makes the figure larger so we see the filter results clearer\n",
        "plt.subplot(121), plt.imshow(mag,cmap = 'gray'), plt.title('Magnitude')\n",
        "plt.subplot(122), plt.imshow(theta,cmap='hsv'), plt.title('Orientation')\n",
        "plt.show()\n",
        "\n",
        "# OpenCVs implementation using the gradients in x and y\n",
        "edges = cv2.Canny(sobelx.astype(np.int16), sobely.astype(np.int16), 0.1*np.amax(mag),0.2*np.amax(mag))\n",
        "\n",
        "plt.figure(figsize=(20,10)) # this command makes the figure larger so we see the filter results clearer\n",
        "plt.subplot(121), plt.imshow(img,cmap = 'gray'), plt.title('Original')\n",
        "plt.subplot(122), plt.imshow(edges,cmap = 'gray'), plt.title('Canny Edge Image')\n",
        "plt.show()"
      ]
    }
  ],
  "metadata": {
    "colab": {
      "collapsed_sections": [
        "tXV5YxS7lsU2"
      ],
      "name": "05_Edges.ipynb",
      "provenance": [],
      "toc_visible": true
    },
    "kernelspec": {
      "display_name": "Python 3.8.10 64-bit (microsoft store)",
      "language": "python",
      "name": "python3"
    },
    "language_info": {
      "codemirror_mode": {
        "name": "ipython",
        "version": 3
      },
      "file_extension": ".py",
      "mimetype": "text/x-python",
      "name": "python",
      "nbconvert_exporter": "python",
      "pygments_lexer": "ipython3",
      "version": "3.8.10"
    },
    "varInspector": {
      "cols": {
        "lenName": 16,
        "lenType": 16,
        "lenVar": 40
      },
      "kernels_config": {
        "python": {
          "delete_cmd_postfix": "",
          "delete_cmd_prefix": "del ",
          "library": "var_list.py",
          "varRefreshCmd": "print(var_dic_list())"
        },
        "r": {
          "delete_cmd_postfix": ") ",
          "delete_cmd_prefix": "rm(",
          "library": "var_list.r",
          "varRefreshCmd": "cat(var_dic_list()) "
        }
      },
      "types_to_exclude": [
        "module",
        "function",
        "builtin_function_or_method",
        "instance",
        "_Feature"
      ],
      "window_display": false
    },
    "vscode": {
      "interpreter": {
        "hash": "0bae4c9257a18836fb2e3dc2d0aeb6355625d596c4075009294ab101cd3e0d3c"
      }
    }
  },
  "nbformat": 4,
  "nbformat_minor": 0
}
