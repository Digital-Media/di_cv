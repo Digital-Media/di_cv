{
 "cells": [
  {
   "attachments": {},
   "cell_type": "markdown",
   "metadata": {
    "id": "wg0d5jojmFFy"
   },
   "source": [
    " # Tutorial 08 - Machine Learning\n",
    " \n",
    " ## Dr. David C. Schedl\n",
    "\n",
    " Note: this tutorial is geared towards students **experienced in programming** and aims to introduce you to **Digital Imaging / Computer Vision** techniques.\n",
    "\n",
    "\n",
    "\n",
    "## Setup\n",
    "As first step, we need to import the necessary libraries. "
   ]
  },
  {
   "cell_type": "code",
   "execution_count": 1,
   "metadata": {
    "id": "G0Em9UTymFF1"
   },
   "outputs": [],
   "source": [
    "# Setup and import of libraries\n",
    "import math\n",
    "import random\n",
    "import numpy as np\n",
    "import matplotlib.pyplot as plt\n",
    "from sklearn.datasets import make_moons, make_blobs, make_circles\n",
    "\n",
    "\n",
    "# Let's set the random seed to make this reproducible (the same for everybody).\n",
    "np.random.seed(1337)\n",
    "random.seed(1337)"
   ]
  },
  {
   "cell_type": "markdown",
   "metadata": {
    "id": "4lgQPWhSmGUZ"
   },
   "source": [
    "# Computing Gradients\n",
    "Let's start simple with the quadratic function $f(x) = 3x^2 - 4x + 5$."
   ]
  },
  {
   "cell_type": "code",
   "execution_count": 2,
   "metadata": {
    "id": "YCDAFpYUmGUa"
   },
   "outputs": [],
   "source": [
    "def f(x):\n",
    "    return 3 * x**2 - 4 * x + 5"
   ]
  },
  {
   "cell_type": "markdown",
   "metadata": {
    "id": "RgImgMGKmGUa"
   },
   "source": [
    "Let's plot it in the range $[-5, 5]$."
   ]
  },
  {
   "cell_type": "code",
   "execution_count": 3,
   "metadata": {
    "colab": {
     "base_uri": "https://localhost:8080/",
     "height": 265
    },
    "id": "nqQ9SCzRmGUb",
    "outputId": "9eb5c5c8-0858-4437-b7fd-ce905cdf109a"
   },
   "outputs": [
    {
     "data": {
      "image/png": "[encoded data removed]",
      "text/plain": [
       "<Figure size 432x288 with 1 Axes>"
      ]
     },
     "metadata": {
      "needs_background": "light"
     },
     "output_type": "display_data"
    }
   ],
   "source": [
    "xs = np.arange(-5, 5, 0.25)\n",
    "ys = f(xs)\n",
    "plt.plot(xs, ys, label=\"f(x)\")\n",
    "plt.legend()\n",
    "plt.show()"
   ]
  },
  {
   "cell_type": "markdown",
   "metadata": {
    "id": "E-UZ6M2BmGUb"
   },
   "source": [
    "The derivative of this function is $\\frac{df(x)}{dx} = 6x - 4$.\n",
    "\n",
    "The minimum ($0 = \\frac{df(x)}{dx}$) is at $x = \\frac{4}{6} = \\frac{2}{3}$.\n",
    "\n",
    "Let's numerically derive the function and let's look at some values. "
   ]
  },
  {
   "cell_type": "code",
   "execution_count": 4,
   "metadata": {
    "colab": {
     "base_uri": "https://localhost:8080/"
    },
    "id": "HvzWb-qumGUc",
    "outputId": "e94bf276-106c-43ef-a4ab-e7dcfaabd32e"
   },
   "outputs": [
    {
     "data": {
      "text/plain": [
       "-27.999997001870724"
      ]
     },
     "execution_count": 4,
     "metadata": {},
     "output_type": "execute_result"
    }
   ],
   "source": [
    "h = 0.000001\n",
    "x = -4  # test with -4, 0, 2/3 and 4\n",
    "(f(x + h) - f(x)) / h"
   ]
  },
  {
   "cell_type": "markdown",
   "metadata": {
    "id": "lTxLj2xYmGUd"
   },
   "source": [
    "## Simple Gradient Descent\n",
    "\n",
    "With the gradient we can now implement a simple gradient descent algorithm, which iteratively updates the value of $x$ in the direction of the negative gradient.\n",
    "The parameters are the learning rate (often denoted as $\\alpha$) and the number of iterations $N$.\n",
    "\n",
    "🤔 What happens if you change the learning rate or the number of iterations?"
   ]
  },
  {
   "cell_type": "code",
   "execution_count": 5,
   "metadata": {
    "colab": {
     "base_uri": "https://localhost:8080/",
     "height": 283
    },
    "id": "xp80t_iGmGUe",
    "outputId": "fcf1e261-d77f-42e3-ad97-b248c548c908"
   },
   "outputs": [
    {
     "name": "stdout",
     "output_type": "stream",
     "text": [
      "x' reached: 0.535 after 10 iterations and should be 0.667!\n"
     ]
    },
    {
     "data": {
      "image/png": "[encoded data removed]",
      "text/plain": [
       "<Figure size 432x288 with 1 Axes>"
      ]
     },
     "metadata": {
      "needs_background": "light"
     },
     "output_type": "display_data"
    }
   ],
   "source": [
    "# simple gradient descent\n",
    "\n",
    "x = -4\n",
    "_xs = [x]\n",
    "learning_rate = 0.05\n",
    "N = 10  # number of iterations\n",
    "for i in range(N):\n",
    "    df = (f(x + h) - f(x)) / h\n",
    "    x = x - learning_rate * df\n",
    "    _xs.append(x)\n",
    "\n",
    "print(f\"x' reached: {x:.3f} after {N} iterations and should be {2/3:.3f}!\")\n",
    "plt.plot(xs, ys, label=\"f(x)\")  # plot the function\n",
    "plt.plot(\n",
    "    _xs, f(np.array(_xs)), \"r.\", label=\"x'\"\n",
    ")  # plot the path our gradient descent took\n",
    "plt.legend()\n",
    "plt.show()"
   ]
  },
  {
   "cell_type": "markdown",
   "metadata": {
    "id": "yqKm_PnwHlt1"
   },
   "source": [
    "## The same with PyTorch\n",
    "\n",
    "Let's reuse the quadratic function $f(x) = 3x^2 - 4x + 5$.\n",
    "\n",
    "PyTorch implements backpropagation. \n",
    "After calling `backward` every tensor involved in the computation has a gradient (`.grad`)."
   ]
  },
  {
   "cell_type": "code",
   "execution_count": 6,
   "metadata": {
    "colab": {
     "base_uri": "https://localhost:8080/"
    },
    "id": "GfvndxmuHneV",
    "outputId": "cac71d54-8568-4f3c-f16b-3dc7745b656b"
   },
   "outputs": [
    {
     "name": "stdout",
     "output_type": "stream",
     "text": [
      "f = 69.0\n",
      "---\n",
      "gradient x = -28.0\n"
     ]
    }
   ],
   "source": [
    "import torch\n",
    "\n",
    "# test with -4, 0, 2/3 and 4\n",
    "x = torch.Tensor([-4]).double()\n",
    "x.requires_grad = True\n",
    "\n",
    "# the quadratic function\n",
    "f = 3 * x**2 - 4 * x + 5\n",
    "\n",
    "print(\"f =\", f.data.item())\n",
    "\n",
    "f.backward()  # with backward we compute the gradients\n",
    "\n",
    "print(\"---\")\n",
    "print(\"gradient x =\", x.grad.item())"
   ]
  },
  {
   "cell_type": "code",
   "execution_count": 7,
   "metadata": {
    "colab": {
     "base_uri": "https://localhost:8080/"
    },
    "id": "zzcDjwu6MNZi",
    "outputId": "bd0973de-4d53-4c07-d989-7257d0e7fbd2"
   },
   "outputs": [
    {
     "name": "stdout",
     "output_type": "stream",
     "text": [
      "step 0, gradient x = -28.0\n",
      "step 1, gradient x = -19.599999999999998\n",
      "step 2, gradient x = -13.719999999999999\n",
      "step 3, gradient x = -9.604\n",
      "step 4, gradient x = -6.7227999999999986\n",
      "step 5, gradient x = -4.705959999999999\n",
      "step 6, gradient x = -3.2941719999999988\n",
      "step 7, gradient x = -2.3059203999999993\n",
      "step 8, gradient x = -1.6141442799999997\n",
      "step 9, gradient x = -1.129900996\n",
      "---\n",
      "x' reached: 0.535 after 10 iterations and should be 0.667!\n"
     ]
    }
   ],
   "source": [
    "x = torch.Tensor([-4]).double()\n",
    "x.requires_grad = True\n",
    "\n",
    "\n",
    "# Let's use an optimizer\n",
    "optimizer = torch.optim.SGD(\n",
    "    [x],\n",
    "    lr=learning_rate,  # learning rate\n",
    ")\n",
    "\n",
    "N = 10  # number of iterations\n",
    "\n",
    "# optimization\n",
    "for k in range(N):\n",
    "\n",
    "    # sets all gradients to zero (this is important)\n",
    "    optimizer.zero_grad()\n",
    "\n",
    "    # compute the quadratic function\n",
    "    f = 3 * x**2 - 4 * x + 5\n",
    "\n",
    "    f.backward()\n",
    "\n",
    "    # update x (sgd)\n",
    "    optimizer.step()\n",
    "    # the same as\n",
    "    # x -= learning_rate * x.grad.item() # NOTE: does not run!\n",
    "\n",
    "    print(f\"step {k}, gradient x = {x.grad.item()}\")\n",
    "\n",
    "print(f\"---\")\n",
    "print(f\"x' reached: {x.data.item():.3f} after {N} iterations and should be {2/3:.3f}!\")"
   ]
  },
  {
   "attachments": {},
   "cell_type": "markdown",
   "metadata": {},
   "source": [
    "# Recap: Naive Line Fitting (from Tutorial 07)"
   ]
  },
  {
   "cell_type": "markdown",
   "metadata": {},
   "source": [
    "Let's look at a simple example of line fitting, where we try to fit a line with a simple line equation: $y = mx + b$.\n",
    "We use the `scipy.optimize` package to fit the line to the data. <br>\n",
    "Note that this will only work for a single line and breaks if there are multiple lines or noise in the data."
   ]
  },
  {
   "cell_type": "code",
   "execution_count": 8,
   "metadata": {},
   "outputs": [
    {
     "name": "stdout",
     "output_type": "stream",
     "text": [
      "1.0 -7.000000000000001\n"
     ]
    },
    {
     "data": {
      "image/png": "[encoded data removed]",
      "text/plain": [
       "<Figure size 432x288 with 1 Axes>"
      ]
     },
     "metadata": {
      "needs_background": "light"
     },
     "output_type": "display_data"
    }
   ],
   "source": [
    "from scipy.optimize import curve_fit\n",
    "\n",
    "image = np.zeros((50, 50), dtype=np.uint8)\n",
    "image[3:33, 10:40] = np.eye(30) * 255\n",
    "# let's add random noise (off if N=0)\n",
    "N = 0\n",
    "image[np.random.randint(0, 50, N), np.random.randint(0, 50, N)] = 255\n",
    "\n",
    "\n",
    "# get all the non-zero points\n",
    "points = np.argwhere(image)\n",
    "ys, xs = points[:, 0], points[:, 1]\n",
    "\n",
    "# a simple line equation y = mx + b (m is the slope, which you might also know as k)\n",
    "def line_eq(x, m, b):\n",
    "    return m * x + b\n",
    "\n",
    "\n",
    "# find m and b\n",
    "(m, b), _ = curve_fit(line_eq, xs, ys)\n",
    "print(m, b)\n",
    "\n",
    "\n",
    "# yshat = line_eq(xs, m, b)\n",
    "\n",
    "# show\n",
    "plt.imshow(image, cmap=\"gray\")\n",
    "# plt.plot(xs, line_eq(xs, m, b))\n",
    "plt.show()"
   ]
  },
  {
   "attachments": {},
   "cell_type": "markdown",
   "metadata": {},
   "source": [
    "## Let's solve it with PyTorch"
   ]
  },
  {
   "cell_type": "code",
   "execution_count": 22,
   "metadata": {},
   "outputs": [
    {
     "name": "stdout",
     "output_type": "stream",
     "text": [
      "The initial model parameters are: m=0.100, b=0.000\n",
      "The initial loss is: 8615.550\n",
      "step 0, loss = 8615.550\n",
      "step 100, loss = 121.234\n",
      "step 200, loss = 50.133\n",
      "step 300, loss = 15.461\n",
      "step 400, loss = 3.649\n",
      "step 500, loss = 0.665\n",
      "step 600, loss = 0.094\n",
      "step 700, loss = 0.010\n",
      "step 800, loss = 0.001\n",
      "step 900, loss = 0.000\n"
     ]
    },
    {
     "data": {
      "image/png": "[encoded data removed]",
      "text/plain": [
       "<Figure size 432x288 with 1 Axes>"
      ]
     },
     "metadata": {
      "needs_background": "light"
     },
     "output_type": "display_data"
    },
    {
     "name": "stdout",
     "output_type": "stream",
     "text": [
      "The final model parameters are: m=1.000, b=-6.999\n",
      "The final loss is: 0.000\n"
     ]
    }
   ],
   "source": [
    "import torch\n",
    "import torch.nn as nn\n",
    "\n",
    "# Convert numpy array to torch tensors\n",
    "_xs = torch.from_numpy(xs).float()\n",
    "_ys = torch.from_numpy(ys).float()\n",
    "\n",
    "# define the model parameters (m and b)\n",
    "_m = torch.Tensor([.1]).float()\n",
    "_m.requires_grad = True\n",
    "_b = torch.Tensor([0]).float()\n",
    "_b.requires_grad = True\n",
    "\n",
    "\n",
    "# Define loss function and optimizer\n",
    "criterion = nn.MSELoss(reduction=\"sum\")\n",
    "optimizer = torch.optim.Adam([_m, _b], lr=1e-1)\n",
    "\n",
    "print(f\"The initial model parameters are: m={_m.item():.3f}, b={_b.item():.3f}\")\n",
    "yhat = line_eq(_xs, _m, _b)\n",
    "loss = criterion(yhat, _ys)\n",
    "print(f\"The initial loss is: {loss.item():.3f}\")\n",
    "\n",
    "# Train the model\n",
    "for epoch in range(1000):\n",
    "    optimizer.zero_grad()\n",
    "    yhat = line_eq(_xs, _m, _b)\n",
    "    loss = criterion(yhat, _ys)\n",
    "    loss.backward() # compute gradients\n",
    "    optimizer.step() # update parameters (m and b)\n",
    "\n",
    "    if epoch % 100 == 0:\n",
    "        print(f\"step {epoch}, loss = {loss.item():.3f}\")\n",
    "\n",
    "\n",
    "# Show the image\n",
    "plt.imshow(image, cmap=\"gray\")\n",
    "yhat = line_eq(_xs, _m, _b)\n",
    "plt.plot(xs, yhat.detach().numpy())\n",
    "plt.show()\n",
    "\n",
    "print(f\"The final model parameters are: m={_m.item():.3f}, b={_b.item():.3f}\")\n",
    "print(f\"The final loss is: {loss.item():.3f}\")"
   ]
  },
  {
   "attachments": {},
   "cell_type": "markdown",
   "metadata": {
    "id": "RZFroauemFF-"
   },
   "source": [
    "### Exercise 1 📝: Play with the hyper parameters\n",
    " \n",
    "Change the initial parameters ($m,b$) and the hyperparameters and see how it affects traininig. \n",
    "Furthermore, try to change the optimizer (see the [PyTorch docs](https://pytorch.org/docs/stable/optim.html#algorithms)) and see how it affects the training. For example, try to use the `SGD` optimizer."
   ]
  }
 ],
 "metadata": {
  "colab": {
   "provenance": []
  },
  "kernelspec": {
   "display_name": "Python 3.9.12 64-bit",
   "language": "python",
   "name": "python3"
  },
  "language_info": {
   "codemirror_mode": {
    "name": "ipython",
    "version": 3
   },
   "file_extension": ".py",
   "mimetype": "text/x-python",
   "name": "python",
   "nbconvert_exporter": "python",
   "pygments_lexer": "ipython3",
   "version": "3.9.12 (tags/v3.9.12:b28265d, Mar 23 2022, 23:52:46) [MSC v.1929 64 bit (AMD64)]"
  },
  "vscode": {
   "interpreter": {
    "hash": "0a05e4fa746b81761c76a645b508c0f51cdd970f4b4b50ae36c6a73f9a174174"
   }
  }
 },
 "nbformat": 4,
 "nbformat_minor": 0
}
