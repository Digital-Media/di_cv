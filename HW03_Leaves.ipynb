{
  "cells": [
    {
      "cell_type": "markdown",
      "metadata": {
        "id": "bk92nT2wT4U8"
      },
      "source": [
        "# Homework 03 - Binary Leaves\n",
        "\n",
        "Contact: David C. Schedl (david.schedl@fh-hagenberg.at)\n",
        "\n",
        "Note: this is the starter pack for the **Digital Imaging / Computer Vision** homework. You do not need to use the exact same template and can start from scratch as well!\n",
        "Using regular Python files (.py) is also possible."
      ]
    },
    {
      "cell_type": "markdown",
      "metadata": {
        "id": "GMb4sAogUarc"
      },
      "source": [
        "# Task \n",
        "<a name=\"Task-A\" id=\"Task-A\"> </a>\n",
        "\n",
        "The goal of this assignment is to use binary image processing to describe and identify leaves. \n",
        "You can use binary-region properties such as area, perimeter, circularity, centralized moments, and Hu moments to describe the leaves.\n",
        "The `binary_leaves` dataset contains multiple images of 5 different leave types: \n",
        "- Japanese maple,\n",
        "- Chinese cinnamon*,\n",
        "- ginkgo, maidenhair tree,\n",
        "- Chinese tulip tree*, and\n",
        "- tangerine.\n",
        "\n",
        "The binary images are all of the same size, the leaves, however, are rotated and scaled slightly differently. \n",
        "Furthermore, there is natural variation in the leaf shapes, which makes the task more challenging.\n",
        "\n",
        "You can solve this task in various ways: \n",
        "- Implement a hand-crafted description/threshold/rule for categorizing every leaf type. \n",
        "- Use a simple machine-learning algorithm like KNN (shown below) to solve the task. \n",
        "- Or, use a complex MLP with multiple layers to classify the leaves. \n",
        "\n",
        "Whatever your solution is, evaluate how good it is by answering the following questions: \n",
        "- How well can you distinguish between the different leaf types? \n",
        "- Which leaves are easy to distinguish? Which are hard, and why is that?\n",
        "- How many different leaf types can you distinguish?\n",
        "- What are the numbers (e.g., how many percent are correctly classified)?\n",
        "\n",
        "You don't need to use 5 different leave types. \n",
        "Start with less types and add more if you feel confident.\n",
        "\n",
        "**Hint(s):** \n",
        "- You can use all the code that we used in the course as basis.\n",
        "- For simplicity start with only 2 or 3 leave types and then extend 5 (leave out the leaves with *). \n",
        "- When combining multiple descriptors be careful with ranges and scaling!\n",
        "- When you want to use Hu moments, remember that the later moments (hu_3, hu_4, ....) are very sensitive to noise (maybe don't use them).\n",
        "\n"
      ]
    },
    {
      "cell_type": "markdown",
      "metadata": {
        "id": "HijXFFDV_9sN"
      },
      "source": [
        "## Further comments/hints:\n",
        "*   You do not need to come up with super efficient implementations! It is mostly about understanding the topic and the problem.\n",
        "*   Think about the problem, solve it, and evaluate your solutions on the test images.\n",
        "*   Summarize your ideas and solutions in the report! \n",
        "\n",
        "\n",
        "**Have fun!** 😸\n"
      ]
    },
    {
      "cell_type": "markdown",
      "metadata": {
        "id": "23cXi25y_9sI"
      },
      "source": [
        "# Loading and working with the data\n",
        "\n",
        "## Setup\n",
        "\n",
        "Let's import useful libraries, first. \n",
        "We'll download binary images into the `binary_leaves` folder. "
      ]
    },
    {
      "cell_type": "code",
      "execution_count": 1,
      "metadata": {
        "id": "vIMpUDEU_9sJ"
      },
      "outputs": [],
      "source": [
        "import os\n",
        "import cv2 # openCV\n",
        "import numpy as np\n",
        "import matplotlib.pyplot as plt\n",
        "import json\n",
        "import pandas as pd # nice tables in python\n",
        "\n",
        "\n",
        "!curl -LJO \"https://raw.githubusercontent.com/Digital-Media/cv_data/main/binary_leaves.zip\" --silent\n",
        "import zipfile\n",
        "with zipfile.ZipFile(\"binary_leaves.zip\", 'r') as zip_ref:\n",
        "    zip_ref.extractall(\".\")"
      ]
    },
    {
      "cell_type": "markdown",
      "metadata": {
        "id": "34mZ8BJ-_9sL"
      },
      "source": [
        "## Loading the data\n",
        "\n",
        "Below you can find the code to load and display the data.\n",
        "For each leaf you have a binary image and a label (0 to 5) indicting the leaf type.\n"
      ]
    },
    {
      "cell_type": "code",
      "execution_count": null,
      "metadata": {
        "colab": {
          "base_uri": "https://localhost:8080/",
          "height": 452
        },
        "id": "rGf1aEmC_9sL",
        "outputId": "f8883938-fb7d-4afc-d7a7-45aed7b59a9b"
      },
      "outputs": [],
      "source": [
        "# Load binary leave images and labels\n",
        "\n",
        "# load label to name mapping from json file\n",
        "with open('binary_leaves/labels.json') as f:\n",
        "    label_to_name = dict(json.load(f))\n",
        "#print(label_to_name)\n",
        "\n",
        "# load images and labels\n",
        "images = []\n",
        "labels = []\n",
        "file_names = []\n",
        "for label, name in label_to_name.items():\n",
        "    for file in os.listdir(f'binary_leaves/{label}'):\n",
        "        image = (cv2.imread(f'binary_leaves/{label}/{file}', cv2.IMREAD_GRAYSCALE)>0).astype(np.uint8)\n",
        "        images.append(image)\n",
        "        labels.append(label)\n",
        "        file_names.append(file)\n",
        "\n",
        "# print simple statistics\n",
        "print(f'number of images: {len(images)}')\n",
        "\n",
        "# show an example image for each class\n",
        "plt.figure(figsize=(15, 5))\n",
        "# init the random number generator\n",
        "np.random.seed(1234)\n",
        "N = 3 # number of images from the same class to show\n",
        "for label, name in label_to_name.items():\n",
        "    for n in range(N):\n",
        "        plt.subplot(N, len(label_to_name), n*len(label_to_name) +(int(label)+1))\n",
        "        # random sample from images with the same label\n",
        "        idx = np.random.choice(np.where(np.array(labels)==label)[0])\n",
        "        image = images[idx]\n",
        "        plt.imshow(image, cmap='gray'), plt.axis('off')\n",
        "        if n == 0:\n",
        "            plt.title(f\"{name[:15]} ({label})\")\n",
        "plt.show()"
      ]
    },
    {
      "cell_type": "markdown",
      "metadata": {
        "id": "D1V5vwrB_9sM"
      },
      "source": [
        "## Working with the dataset\n",
        "\n",
        "Below is a simple example that shows you how to work with the dataset.\n",
        "It computes properties for one leaf of each class. "
      ]
    },
    {
      "cell_type": "code",
      "execution_count": null,
      "metadata": {
        "colab": {
          "base_uri": "https://localhost:8080/",
          "height": 510
        },
        "id": "Lf2cR0MB_9sM",
        "outputId": "cc2f172e-810c-4e02-8eed-b24de2f200bd"
      },
      "outputs": [],
      "source": [
        "\n",
        "def compute_properties(img, hu_contour=True, hu_log=True):\n",
        "    \"\"\"Compute properties of a binary image.\n",
        "    Args:\n",
        "        img (np.array): binary image\n",
        "        hu_contour (bool): if True, compute the moments of the contour. Otherwise, the entire binary region is used.\n",
        "        hu_log (bool): if True, compute the log of the Hu moments\n",
        "    Returns:\n",
        "        dict: dictionary with properties area, perimeter, circularity, and hu moments (hu_0, hu_1, ... hu_6)\n",
        "    \"\"\"\n",
        "    # get binary regions of binary image and compute their properties (area, BBs, centroid)\n",
        "    retval, labels, stats, centroids = cv2.connectedComponentsWithStats(img)\n",
        "    assert( len(stats) == 2 ) # foreground (1) and background (0)\n",
        "    # compute the contour and its perimeter \n",
        "    contour = cv2.findContours((labels==1).astype(np.uint8), cv2.RETR_EXTERNAL, cv2.CHAIN_APPROX_NONE)[0][0]\n",
        "    perimeter = cv2.arcLength(contour, True)\n",
        "\n",
        "    circularity = 4.0*np.pi*stats[1,4]/ (.95*perimeter)**2\n",
        "\n",
        "    simple_props = {'area': stats[1,4], 'perimeter': perimeter, 'circularity': circularity}\n",
        "\n",
        "    M = cv2.moments(contour if hu_contour else (labels==1).astype(np.uint8) )\n",
        "\n",
        "    # compute Hu moments \n",
        "    hu_moments = cv2.HuMoments(M).flatten()\n",
        "    if hu_log:\n",
        "        hu_moments = np.sign(hu_moments) * np.log(np.abs(hu_moments)) # log is only defined for positive values, thus use abs\n",
        "    hu_props = {'hu_'+str(i): hu_moments[i] for i in range(len(hu_moments))}\n",
        "\n",
        "    return dict( **simple_props, **hu_props )\n",
        "\n",
        "\n",
        "\n",
        "# compute properties for one examplary image\n",
        "np.random.seed(1234) # init the random number generator\n",
        "num_samples_per_category = 4 # change this to use more samples per category\n",
        "props = {}\n",
        "for label, name in label_to_name.items():\n",
        "        # random sample from images with the same label\n",
        "        idxs = np.random.choice(np.where(np.array(labels)==label)[0], num_samples_per_category, replace=False)\n",
        "        for idx in idxs:\n",
        "          image = images[idx]\n",
        "          \n",
        "          cp = compute_properties(image)\n",
        "          cp.update({'label': int(label)})\n",
        "          props[f\"{name} ({file_names[idx]})\"] = cp\n",
        "\n",
        "# make a pandas table with the hu moments\n",
        "#pd.options.display.float_format = \"{:.3f}\".format\n",
        "df = pd.DataFrame(props)\n",
        "\n",
        "# show the table\n",
        "df"
      ]
    },
    {
      "cell_type": "markdown",
      "metadata": {
        "id": "c5ytYHPVUNje"
      },
      "source": [
        "## Visualize the shape descriptions (in 2D)\n"
      ]
    },
    {
      "cell_type": "code",
      "execution_count": null,
      "metadata": {
        "colab": {
          "base_uri": "https://localhost:8080/",
          "height": 557
        },
        "id": "A83qri2uEMOv",
        "outputId": "e9795408-4fec-4e5e-f62b-e4af1c7f1a9a"
      },
      "outputs": [],
      "source": [
        "# plot the region properties on a 2D plot\n",
        "\n",
        "# pick axes to plot\n",
        "x_axis = \"circularity\"\n",
        "y_axis = \"hu_1\"\n",
        "\n",
        "\n",
        "plt.figure(figsize=(15, 7))\n",
        "# set the axis labels\n",
        "plt.xlabel(x_axis)\n",
        "plt.ylabel(y_axis)\n",
        "\n",
        "# plot the leaves in different colors\n",
        "plt.scatter(df.loc[x_axis], df.loc[y_axis], c=df.loc['label'], label=\"leaves\")\n",
        "\n",
        "plt.legend()\n",
        "plt.show()"
      ]
    },
    {
      "cell_type": "markdown",
      "metadata": {
        "id": "Sw6f_4qAWzKS"
      },
      "source": [
        "## K-Neighbors Classification and Confusion matrix"
      ]
    },
    {
      "cell_type": "code",
      "execution_count": null,
      "metadata": {
        "colab": {
          "base_uri": "https://localhost:8080/",
          "height": 625
        },
        "id": "QoXanzeqQnbv",
        "outputId": "9b64a845-fc02-40bb-ce64-00c08a2cca91"
      },
      "outputs": [],
      "source": [
        "from sklearn.neighbors import KNeighborsClassifier\n",
        "from sklearn.metrics import confusion_matrix, ConfusionMatrixDisplay\n",
        "\n",
        "####### HYPER PARAMETERS #########\n",
        "k = 3 # number of nearest neighbour samples\n",
        "Lnorm = 2 # 1 for manhatten 2 for euclidian distance in 2D\n",
        "\n",
        "neigh = KNeighborsClassifier(n_neighbors=k, p=Lnorm)\n",
        "\n",
        "X = np.array([df.loc[x_axis], df.loc[y_axis]]).T\n",
        "y = np.array(df.loc['label'])\n",
        "print(X.shape, y.shape) # X should be of shape (n_samples, n_features)\n",
        "\n",
        "# \"train\" our classifier\n",
        "neigh.fit(X, y)\n",
        "\n",
        "# predict the labels (again)\n",
        "predictions = neigh.predict(X)\n",
        "\n",
        "# Let's visualize a confusion matrix\n",
        "cm = confusion_matrix(y, predictions)\n",
        "disp = ConfusionMatrixDisplay(\n",
        "    confusion_matrix=cm, \n",
        "    display_labels=list(label_to_name.values())\n",
        "    )\n",
        "disp.plot(xticks_rotation='vertical')\n",
        "plt.show()\n",
        "\n"
      ]
    }
  ],
  "metadata": {
    "colab": {
      "name": "Homework.ipynb",
      "provenance": []
    },
    "kernelspec": {
      "display_name": "venv",
      "language": "python",
      "name": "python3"
    },
    "language_info": {
      "codemirror_mode": {
        "name": "ipython",
        "version": 3
      },
      "file_extension": ".py",
      "mimetype": "text/x-python",
      "name": "python",
      "nbconvert_exporter": "python",
      "pygments_lexer": "ipython3",
      "version": "3.12.6"
    }
  },
  "nbformat": 4,
  "nbformat_minor": 0
}
