{
  "cells": [
    {
      "cell_type": "markdown",
      "metadata": {
        "id": "bk92nT2wT4U8"
      },
      "source": [
        "# Homework 02 - Hybrid Images\n",
        "\n",
        "Contact: David C. Schedl (david.schedl@fh-hagenberg.at)\n",
        "\n",
        "Note: this is the starter pack for the **Digital Imaging / Computer Vision** homework. You do not need to use the exact same template and can start from scratch as well!"
      ]
    },
    {
      "cell_type": "markdown",
      "metadata": {},
      "source": [
        "# Setup\n",
        "\n",
        "Let's import useful libraries, first. \n",
        "We'll download pairs of test images into the `hybrid_images` folder. "
      ]
    },
    {
      "cell_type": "code",
      "execution_count": 14,
      "metadata": {},
      "outputs": [],
      "source": [
        "import os\n",
        "import cv2 # openCV\n",
        "import numpy as np\n",
        "import matplotlib.pyplot as plt\n",
        "import plotly.graph_objects as go\n",
        "import plotly.express as px\n",
        "import plotly.io as pio\n",
        "from plotly.express.colors import sample_colorscale\n",
        "from plotly.subplots import make_subplots\n",
        "\n",
        "!curl -LJO \"https://raw.githubusercontent.com/Digital-Media/cv_data/main/hybrid_images.zip\" --silent\n",
        "import zipfile\n",
        "with zipfile.ZipFile(\"hybrid_images.zip\", 'r') as zip_ref:\n",
        "    zip_ref.extractall(\".\")"
      ]
    },
    {
      "cell_type": "markdown",
      "metadata": {
        "id": "GMb4sAogUarc"
      },
      "source": [
        "## Task \n",
        "<a name=\"Task-A\" id=\"Task-A\"> </a>\n",
        "\n",
        "\n",
        "The goal of this assignment is to create hybrid images. Hybrid images are static images that change in interpretation as a function of the viewing distance. The basic idea is that high frequency tends to dominate perception when viewed from a close distance but, at a distance, only the low frequency (smooth) part of the signal can be seen. By blending the high frequency portion of one image with the low-frequency portion of another, you get a hybrid image that leads to different interpretations at different distances.\n",
        "\n",
        "Hybrid images are complex and beautiful, but also interesting from an engineering perspective.\n",
        "The original idea was published in a 2006 Siggraph papber by Oliva *et al.* :\n",
        "> Oliva, Aude, Antonio Torralba, and Philippe G. Schyns. \"Hybrid images.\" ACM Transactions on Graphics (TOG) 25.3 (2006): 527-532.\n",
        "\n",
        "You can view it \n",
        "[here](https://dellaert.github.io/19F-4476/misc/oliva-siggraph-2006.pdf)\n",
        "or [here](https://dl.acm.org/doi/pdf/10.1145/1141911.1141919?casa_token=uAR1sUvMfWsAAAAA:bIULrLwd4g5Eb5r97h1D3W1f38dFf9-pd7-3XI1nW-VmQ46leCVpXphTLhE1saxAZGmWtz3G-yAc)\n",
        "\n",
        "This notebook downloads a pairs of test images that you can use for creating hybrid images. You can use your own images as well. \n",
        "This project is intended to familiarize you with image filtering and the frequency domain. \n",
        "Think about the algorithm and implement it. Furthermore you need to find good settings for every test pair of images. How many of which frequencies do you suppress for each image to make the hybrid image look good?\n",
        "\n",
        "**Hint:** You can use all the code that we used for image filtering and Fourier Transformation as basis.\n"
      ]
    },
    {
      "cell_type": "code",
      "execution_count": null,
      "metadata": {},
      "outputs": [],
      "source": [
        "# Solution Task \n",
        "\n",
        "# Todo: implement the hybrid images "
      ]
    },
    {
      "cell_type": "markdown",
      "metadata": {},
      "source": [
        "## Further comments/hints:\n",
        "*   You do not need to come up with super efficient implementations! It is mostly about getting into the topic.\n",
        "*   Think about the problem, solve it, and evaluate your solutions on the test images (you can add pictures yourself).\n",
        "*   Summarize your ideas and solutions in the report! \n",
        "\n",
        "\n",
        "**Have fun!** 😸\n"
      ]
    }
  ],
  "metadata": {
    "colab": {
      "collapsed_sections": [],
      "name": "Homework.ipynb",
      "provenance": []
    },
    "kernelspec": {
      "display_name": "Python 3.8.10 64-bit (microsoft store)",
      "language": "python",
      "name": "python3"
    },
    "language_info": {
      "codemirror_mode": {
        "name": "ipython",
        "version": 3
      },
      "file_extension": ".py",
      "mimetype": "text/x-python",
      "name": "python",
      "nbconvert_exporter": "python",
      "pygments_lexer": "ipython3",
      "version": "3.8.10"
    },
    "vscode": {
      "interpreter": {
        "hash": "0bae4c9257a18836fb2e3dc2d0aeb6355625d596c4075009294ab101cd3e0d3c"
      }
    }
  },
  "nbformat": 4,
  "nbformat_minor": 0
}
